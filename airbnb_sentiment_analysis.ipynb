{
 "cells": [
  {
   "cell_type": "markdown",
   "metadata": {},
   "source": [
    "# AirBNB Sentiment Analysis"
   ]
  },
  {
   "cell_type": "markdown",
   "metadata": {},
   "source": [
    "[Airbnb](https://www.airbnb.com/) is a popular online marketplace that connects people who rent their space to people who are looking for accomodations in that area\n",
    "\n",
    "Customers can leave reviews for the rented space and sometimes bad ones can scare people away.\n",
    "\n",
    "We'll analyze how's the review looks like, from Airbnb public data."
   ]
  },
  {
   "cell_type": "markdown",
   "metadata": {},
   "source": [
    "## Business Understanding\n",
    "\n",
    "Bad review could turn customers away.\n",
    "\n",
    "It's now common for a customer to do their own research before deciding a buy. \n",
    "Some aspects they like to compare are price, product review, brand, etc. \n",
    "During their own research, consumer able to look for positive or negative reviews.\n",
    "\n",
    "\n",
    "A study founds that online reviews affect [67%](https://soundwave.co.uk/blog/study-finds-67-of-consumers-are-influenced-by-online-reviews) of consumer purchasing decision. \n",
    "Positive reviews would increase the reputation, and able to drive more sales. \n",
    "Meanwhile, negative reviews could be detrimental to business. Revenue Loss, Undermine brand image, drive away customer visit, and low search traffic.\n",
    "\n",
    "Thus, it's essential for the business to find bad review and take action to improve the product/service\n",
    "\n",
    "These are the questions that we wish to answer in this analysis : \n",
    "- How to identify positive and negative reviews? \n",
    "- What are the popular words from the customers? \n",
    "- How to detect negative reviews and does it robust enough to detect the sentiment?"
   ]
  },
  {
   "cell_type": "markdown",
   "metadata": {},
   "source": [
    "## Data Understanding\n",
    "\n",
    "The data taken from Airbnb for 3 cities (Boston, Seattle, Amsterdam)\n",
    "\n",
    "- City : [Boston](https://www.kaggle.com/airbnb/boston), [Seattle](https://www.kaggle.com/airbnb/seattle/data), [Amsterdam](http://insideairbnb.com/get-the-data.html)\n",
    "\n",
    "- List : Contains the description of review and ratings\n",
    "\n",
    "- Reviews: contains ID for reviewer and comments \n",
    "    \n",
    "In this analysis, first, we will find the overall rating of the service and find the popular review words.\n",
    "\n",
    "Then we will use the sentiment analysis technique to find bad reviews\n",
    "\n",
    "The sentiment analysis uses NLTK, which is a powerful language tool to analyze text data. It covers many language forms to assess the sentiment review in this analysis.\n",
    "\n",
    "To see how nltk performs in a non-English language, we are adding dutch language in Amsterdam Airbnb."
   ]
  },
  {
   "cell_type": "markdown",
   "metadata": {},
   "source": [
    "#### Import & Overview of dataset"
   ]
  },
  {
   "cell_type": "code",
   "execution_count": 145,
   "metadata": {},
   "outputs": [],
   "source": [
    "import pandas as pd \n",
    "seattle_raw_list = pd.read_csv(\"/Users/yogisharosarumaha/Udacity Project 1/airbnb_seattle_data/listings.csv\") \n",
    "seattle_raw_rev = pd.read_csv(\"/Users/yogisharosarumaha/Udacity Project 1/airbnb_seattle_data/reviews.csv\") \n",
    "\n",
    "boston_raw_list = pd.read_csv(\"/Users/yogisharosarumaha/Udacity Project 1/airbnb_boston_data/listings.csv\") \n",
    "boston_raw_rev = pd.read_csv(\"/Users/yogisharosarumaha/Udacity Project 1/airbnb_boston_data/reviews.csv\") \n",
    "\n",
    "amsterdam_raw_list = pd.read_csv(\"/Users/yogisharosarumaha/Udacity Project 1/airbnb_amsterdam_data/listings.csv\") \n",
    "amsterdam_raw_rev = pd.read_csv(\"/Users/yogisharosarumaha/Udacity Project 1/airbnb_amsterdam_data/reviews.csv\") "
   ]
  },
  {
   "cell_type": "code",
   "execution_count": 146,
   "metadata": {
    "scrolled": true
   },
   "outputs": [
    {
     "data": {
      "text/html": [
       "<div>\n",
       "<style scoped>\n",
       "    .dataframe tbody tr th:only-of-type {\n",
       "        vertical-align: middle;\n",
       "    }\n",
       "\n",
       "    .dataframe tbody tr th {\n",
       "        vertical-align: top;\n",
       "    }\n",
       "\n",
       "    .dataframe thead th {\n",
       "        text-align: right;\n",
       "    }\n",
       "</style>\n",
       "<table border=\"1\" class=\"dataframe\">\n",
       "  <thead>\n",
       "    <tr style=\"text-align: right;\">\n",
       "      <th></th>\n",
       "      <th>id</th>\n",
       "      <th>listing_url</th>\n",
       "      <th>scrape_id</th>\n",
       "      <th>last_scraped</th>\n",
       "      <th>name</th>\n",
       "      <th>summary</th>\n",
       "      <th>space</th>\n",
       "      <th>description</th>\n",
       "      <th>experiences_offered</th>\n",
       "      <th>neighborhood_overview</th>\n",
       "      <th>...</th>\n",
       "      <th>review_scores_value</th>\n",
       "      <th>requires_license</th>\n",
       "      <th>license</th>\n",
       "      <th>jurisdiction_names</th>\n",
       "      <th>instant_bookable</th>\n",
       "      <th>cancellation_policy</th>\n",
       "      <th>require_guest_profile_picture</th>\n",
       "      <th>require_guest_phone_verification</th>\n",
       "      <th>calculated_host_listings_count</th>\n",
       "      <th>reviews_per_month</th>\n",
       "    </tr>\n",
       "  </thead>\n",
       "  <tbody>\n",
       "    <tr>\n",
       "      <th>0</th>\n",
       "      <td>241032</td>\n",
       "      <td>https://www.airbnb.com/rooms/241032</td>\n",
       "      <td>20160104002432</td>\n",
       "      <td>2016-01-04</td>\n",
       "      <td>Stylish Queen Anne Apartment</td>\n",
       "      <td>NaN</td>\n",
       "      <td>Make your self at home in this charming one-be...</td>\n",
       "      <td>Make your self at home in this charming one-be...</td>\n",
       "      <td>none</td>\n",
       "      <td>NaN</td>\n",
       "      <td>...</td>\n",
       "      <td>10.0</td>\n",
       "      <td>f</td>\n",
       "      <td>NaN</td>\n",
       "      <td>WASHINGTON</td>\n",
       "      <td>f</td>\n",
       "      <td>moderate</td>\n",
       "      <td>f</td>\n",
       "      <td>f</td>\n",
       "      <td>2</td>\n",
       "      <td>4.07</td>\n",
       "    </tr>\n",
       "    <tr>\n",
       "      <th>1</th>\n",
       "      <td>953595</td>\n",
       "      <td>https://www.airbnb.com/rooms/953595</td>\n",
       "      <td>20160104002432</td>\n",
       "      <td>2016-01-04</td>\n",
       "      <td>Bright &amp; Airy Queen Anne Apartment</td>\n",
       "      <td>Chemically sensitive? We've removed the irrita...</td>\n",
       "      <td>Beautiful, hypoallergenic apartment in an extr...</td>\n",
       "      <td>Chemically sensitive? We've removed the irrita...</td>\n",
       "      <td>none</td>\n",
       "      <td>Queen Anne is a wonderful, truly functional vi...</td>\n",
       "      <td>...</td>\n",
       "      <td>10.0</td>\n",
       "      <td>f</td>\n",
       "      <td>NaN</td>\n",
       "      <td>WASHINGTON</td>\n",
       "      <td>f</td>\n",
       "      <td>strict</td>\n",
       "      <td>t</td>\n",
       "      <td>t</td>\n",
       "      <td>6</td>\n",
       "      <td>1.48</td>\n",
       "    </tr>\n",
       "    <tr>\n",
       "      <th>2</th>\n",
       "      <td>3308979</td>\n",
       "      <td>https://www.airbnb.com/rooms/3308979</td>\n",
       "      <td>20160104002432</td>\n",
       "      <td>2016-01-04</td>\n",
       "      <td>New Modern House-Amazing water view</td>\n",
       "      <td>New modern house built in 2013.  Spectacular s...</td>\n",
       "      <td>Our house is modern, light and fresh with a wa...</td>\n",
       "      <td>New modern house built in 2013.  Spectacular s...</td>\n",
       "      <td>none</td>\n",
       "      <td>Upper Queen Anne is a charming neighborhood fu...</td>\n",
       "      <td>...</td>\n",
       "      <td>10.0</td>\n",
       "      <td>f</td>\n",
       "      <td>NaN</td>\n",
       "      <td>WASHINGTON</td>\n",
       "      <td>f</td>\n",
       "      <td>strict</td>\n",
       "      <td>f</td>\n",
       "      <td>f</td>\n",
       "      <td>2</td>\n",
       "      <td>1.15</td>\n",
       "    </tr>\n",
       "  </tbody>\n",
       "</table>\n",
       "<p>3 rows × 92 columns</p>\n",
       "</div>"
      ],
      "text/plain": [
       "        id                           listing_url       scrape_id last_scraped  \\\n",
       "0   241032   https://www.airbnb.com/rooms/241032  20160104002432   2016-01-04   \n",
       "1   953595   https://www.airbnb.com/rooms/953595  20160104002432   2016-01-04   \n",
       "2  3308979  https://www.airbnb.com/rooms/3308979  20160104002432   2016-01-04   \n",
       "\n",
       "                                  name  \\\n",
       "0         Stylish Queen Anne Apartment   \n",
       "1   Bright & Airy Queen Anne Apartment   \n",
       "2  New Modern House-Amazing water view   \n",
       "\n",
       "                                             summary  \\\n",
       "0                                                NaN   \n",
       "1  Chemically sensitive? We've removed the irrita...   \n",
       "2  New modern house built in 2013.  Spectacular s...   \n",
       "\n",
       "                                               space  \\\n",
       "0  Make your self at home in this charming one-be...   \n",
       "1  Beautiful, hypoallergenic apartment in an extr...   \n",
       "2  Our house is modern, light and fresh with a wa...   \n",
       "\n",
       "                                         description experiences_offered  \\\n",
       "0  Make your self at home in this charming one-be...                none   \n",
       "1  Chemically sensitive? We've removed the irrita...                none   \n",
       "2  New modern house built in 2013.  Spectacular s...                none   \n",
       "\n",
       "                               neighborhood_overview  ... review_scores_value  \\\n",
       "0                                                NaN  ...                10.0   \n",
       "1  Queen Anne is a wonderful, truly functional vi...  ...                10.0   \n",
       "2  Upper Queen Anne is a charming neighborhood fu...  ...                10.0   \n",
       "\n",
       "  requires_license license jurisdiction_names instant_bookable  \\\n",
       "0                f     NaN         WASHINGTON                f   \n",
       "1                f     NaN         WASHINGTON                f   \n",
       "2                f     NaN         WASHINGTON                f   \n",
       "\n",
       "  cancellation_policy  require_guest_profile_picture  \\\n",
       "0            moderate                              f   \n",
       "1              strict                              t   \n",
       "2              strict                              f   \n",
       "\n",
       "  require_guest_phone_verification calculated_host_listings_count  \\\n",
       "0                                f                              2   \n",
       "1                                t                              6   \n",
       "2                                f                              2   \n",
       "\n",
       "  reviews_per_month  \n",
       "0              4.07  \n",
       "1              1.48  \n",
       "2              1.15  \n",
       "\n",
       "[3 rows x 92 columns]"
      ]
     },
     "metadata": {},
     "output_type": "display_data"
    },
    {
     "data": {
      "text/html": [
       "<div>\n",
       "<style scoped>\n",
       "    .dataframe tbody tr th:only-of-type {\n",
       "        vertical-align: middle;\n",
       "    }\n",
       "\n",
       "    .dataframe tbody tr th {\n",
       "        vertical-align: top;\n",
       "    }\n",
       "\n",
       "    .dataframe thead th {\n",
       "        text-align: right;\n",
       "    }\n",
       "</style>\n",
       "<table border=\"1\" class=\"dataframe\">\n",
       "  <thead>\n",
       "    <tr style=\"text-align: right;\">\n",
       "      <th></th>\n",
       "      <th>listing_id</th>\n",
       "      <th>id</th>\n",
       "      <th>date</th>\n",
       "      <th>reviewer_id</th>\n",
       "      <th>reviewer_name</th>\n",
       "      <th>comments</th>\n",
       "    </tr>\n",
       "  </thead>\n",
       "  <tbody>\n",
       "    <tr>\n",
       "      <th>0</th>\n",
       "      <td>7202016</td>\n",
       "      <td>38917982</td>\n",
       "      <td>2015-07-19</td>\n",
       "      <td>28943674</td>\n",
       "      <td>Bianca</td>\n",
       "      <td>Cute and cozy place. Perfect location to every...</td>\n",
       "    </tr>\n",
       "    <tr>\n",
       "      <th>1</th>\n",
       "      <td>7202016</td>\n",
       "      <td>39087409</td>\n",
       "      <td>2015-07-20</td>\n",
       "      <td>32440555</td>\n",
       "      <td>Frank</td>\n",
       "      <td>Kelly has a great room in a very central locat...</td>\n",
       "    </tr>\n",
       "    <tr>\n",
       "      <th>2</th>\n",
       "      <td>7202016</td>\n",
       "      <td>39820030</td>\n",
       "      <td>2015-07-26</td>\n",
       "      <td>37722850</td>\n",
       "      <td>Ian</td>\n",
       "      <td>Very spacious apartment, and in a great neighb...</td>\n",
       "    </tr>\n",
       "  </tbody>\n",
       "</table>\n",
       "</div>"
      ],
      "text/plain": [
       "   listing_id        id        date  reviewer_id reviewer_name  \\\n",
       "0     7202016  38917982  2015-07-19     28943674        Bianca   \n",
       "1     7202016  39087409  2015-07-20     32440555         Frank   \n",
       "2     7202016  39820030  2015-07-26     37722850           Ian   \n",
       "\n",
       "                                            comments  \n",
       "0  Cute and cozy place. Perfect location to every...  \n",
       "1  Kelly has a great room in a very central locat...  \n",
       "2  Very spacious apartment, and in a great neighb...  "
      ]
     },
     "metadata": {},
     "output_type": "display_data"
    }
   ],
   "source": [
    "#Look at the first rows from Listings and Review dataset\n",
    "display(seattle_raw_list.head(3),seattle_raw_rev.head(3))"
   ]
  },
  {
   "cell_type": "markdown",
   "metadata": {},
   "source": [
    "#### Combine dataset"
   ]
  },
  {
   "cell_type": "code",
   "execution_count": 7,
   "metadata": {},
   "outputs": [],
   "source": [
    "#Label each area\n",
    "seattle_raw_list['area'] = 'seattle'\n",
    "seattle_raw_rev['area'] = 'seattle'\n",
    "\n",
    "boston_raw_list['area'] = 'boston'\n",
    "boston_raw_rev['area'] = 'boston'\n",
    "\n",
    "amsterdam_raw_list['area'] = 'amsterdam'\n",
    "amsterdam_raw_rev['area'] = 'amsterdam'\n",
    "\n",
    "#Union all the cities dataset\n",
    "concat_list_df = pd.concat([seattle_raw_list,boston_raw_list,amsterdam_raw_list], ignore_index=True)\n",
    "concat_rev_df = pd.concat([seattle_raw_rev,boston_raw_rev,amsterdam_raw_rev], ignore_index=True)"
   ]
  },
  {
   "cell_type": "markdown",
   "metadata": {},
   "source": [
    "#### Airbnb Stay have Positive Review"
   ]
  },
  {
   "cell_type": "markdown",
   "metadata": {},
   "source": [
    "Customers in 3 different areas have great room stay experiece with ratings ~90\n",
    "\n",
    "This is common for the reviews to have more positive than negative in services apps, as they keep improving over time."
   ]
  },
  {
   "cell_type": "code",
   "execution_count": 121,
   "metadata": {
    "scrolled": false
   },
   "outputs": [
    {
     "data": {
      "text/html": [
       "<div>\n",
       "<style scoped>\n",
       "    .dataframe tbody tr th:only-of-type {\n",
       "        vertical-align: middle;\n",
       "    }\n",
       "\n",
       "    .dataframe tbody tr th {\n",
       "        vertical-align: top;\n",
       "    }\n",
       "\n",
       "    .dataframe thead th {\n",
       "        text-align: right;\n",
       "    }\n",
       "</style>\n",
       "<table border=\"1\" class=\"dataframe\">\n",
       "  <thead>\n",
       "    <tr style=\"text-align: right;\">\n",
       "      <th>area</th>\n",
       "      <th>amsterdam</th>\n",
       "      <th>boston</th>\n",
       "      <th>seattle</th>\n",
       "    </tr>\n",
       "  </thead>\n",
       "  <tbody>\n",
       "    <tr>\n",
       "      <th>count</th>\n",
       "      <td>16240.000000</td>\n",
       "      <td>2772.000000</td>\n",
       "      <td>3171.000000</td>\n",
       "    </tr>\n",
       "    <tr>\n",
       "      <th>mean</th>\n",
       "      <td>95.177094</td>\n",
       "      <td>91.916667</td>\n",
       "      <td>94.539262</td>\n",
       "    </tr>\n",
       "    <tr>\n",
       "      <th>std</th>\n",
       "      <td>6.841266</td>\n",
       "      <td>9.531686</td>\n",
       "      <td>6.606083</td>\n",
       "    </tr>\n",
       "    <tr>\n",
       "      <th>min</th>\n",
       "      <td>20.000000</td>\n",
       "      <td>20.000000</td>\n",
       "      <td>20.000000</td>\n",
       "    </tr>\n",
       "    <tr>\n",
       "      <th>25%</th>\n",
       "      <td>93.000000</td>\n",
       "      <td>89.000000</td>\n",
       "      <td>93.000000</td>\n",
       "    </tr>\n",
       "    <tr>\n",
       "      <th>50%</th>\n",
       "      <td>97.000000</td>\n",
       "      <td>94.000000</td>\n",
       "      <td>96.000000</td>\n",
       "    </tr>\n",
       "    <tr>\n",
       "      <th>75%</th>\n",
       "      <td>100.000000</td>\n",
       "      <td>98.250000</td>\n",
       "      <td>99.000000</td>\n",
       "    </tr>\n",
       "    <tr>\n",
       "      <th>max</th>\n",
       "      <td>100.000000</td>\n",
       "      <td>100.000000</td>\n",
       "      <td>100.000000</td>\n",
       "    </tr>\n",
       "  </tbody>\n",
       "</table>\n",
       "</div>"
      ],
      "text/plain": [
       "area      amsterdam       boston      seattle\n",
       "count  16240.000000  2772.000000  3171.000000\n",
       "mean      95.177094    91.916667    94.539262\n",
       "std        6.841266     9.531686     6.606083\n",
       "min       20.000000    20.000000    20.000000\n",
       "25%       93.000000    89.000000    93.000000\n",
       "50%       97.000000    94.000000    96.000000\n",
       "75%      100.000000    98.250000    99.000000\n",
       "max      100.000000   100.000000   100.000000"
      ]
     },
     "execution_count": 121,
     "metadata": {},
     "output_type": "execute_result"
    }
   ],
   "source": [
    "concat_list_df.groupby('area')[\"review_scores_rating\"].describe().transpose()"
   ]
  },
  {
   "cell_type": "markdown",
   "metadata": {},
   "source": [
    "#### All service aspects have Positive Review"
   ]
  },
  {
   "cell_type": "markdown",
   "metadata": {},
   "source": [
    "Airbnb have various aspects of customer experience such as check-in experience, room cleanliness,  location, communication, and also value.\n",
    "\n",
    "In the chart, all aspects also have positive rating business should maintain these effort to keep customers coming in\n",
    "\n",
    "There's still improvement to be made from the bad ratings\n",
    "We'll take a look at these bad reviews later and what kind of unpleasant experience they had during the stay"
   ]
  },
  {
   "cell_type": "code",
   "execution_count": 137,
   "metadata": {},
   "outputs": [
    {
     "data": {
      "image/png": "[encoded data removed]",
      "text/plain": [
       "<Figure size 432x288 with 6 Axes>"
      ]
     },
     "metadata": {
      "needs_background": "light"
     },
     "output_type": "display_data"
    }
   ],
   "source": [
    "import matplotlib.pyplot as plt\n",
    "\n",
    "fig, ax = plt.subplots(2, 3)\n",
    "fig.tight_layout()\n",
    "\n",
    "ax[0, 0].hist(concat_list_df[\"review_scores_value\"]) #row=0, col=0\n",
    "ax[0, 0].set_title('Value')\n",
    "ax[1, 0].hist(concat_list_df[\"review_scores_checkin\"]) #row=1, col=0\n",
    "ax[1, 0].set_title('Check In')\n",
    "ax[0, 1].hist(concat_list_df[\"review_scores_cleanliness\"]) #row=0, col=1\n",
    "ax[0, 1].set_title('Cleanliness')\n",
    "ax[1, 1].hist(concat_list_df[\"review_scores_communication\"]) #row=1, col=1\n",
    "ax[1, 1].set_title('Communication')\n",
    "ax[1, 2].hist(concat_list_df[\"review_scores_location\"]) #row=1, col=1\n",
    "ax[1 ,2].set_title('Location')\n",
    "plt.show()"
   ]
  },
  {
   "cell_type": "markdown",
   "metadata": {},
   "source": [
    "### What are customers mostly saying\n"
   ]
  },
  {
   "cell_type": "markdown",
   "metadata": {},
   "source": [
    "We have checked that most customers have a great experience during the stay. \n",
    "\n",
    "In most aspects, the scores was pretty high.\n",
    "\n",
    "In the review comments, it's interesting to also look at the most frequent words"
   ]
  },
  {
   "cell_type": "markdown",
   "metadata": {},
   "source": [
    "### Word Frequency"
   ]
  },
  {
   "cell_type": "markdown",
   "metadata": {},
   "source": [
    "Some of the comments have missing values and we fill it with blanks.\n",
    "\n",
    "Skipping this part would occur error in the analysis, because the customer did not leave any review"
   ]
  },
  {
   "cell_type": "code",
   "execution_count": 138,
   "metadata": {},
   "outputs": [
    {
     "data": {
      "text/plain": [
       "339"
      ]
     },
     "execution_count": 138,
     "metadata": {},
     "output_type": "execute_result"
    }
   ],
   "source": [
    "#count missing values\n",
    "concat_rev_df['comments'].isnull().sum()"
   ]
  },
  {
   "cell_type": "markdown",
   "metadata": {},
   "source": [
    "Let's lowercase the texts to avoid words that have similar intention.\n",
    "\n",
    "Then, split each word to count their frequency"
   ]
  },
  {
   "cell_type": "code",
   "execution_count": 139,
   "metadata": {},
   "outputs": [],
   "source": [
    "import itertools\n",
    "import collections\n",
    "\n",
    "def convert(lst): \n",
    "    return ([i for item in lst for i in item.lower().split()]) \n",
    "\n",
    "all_words_review = convert(concat_rev_df['comments'].fillna(\"\")) #Fill in missing reviews with blank\n",
    "count_word = collections.Counter(all_words_review) #Count word frequency"
   ]
  },
  {
   "cell_type": "code",
   "execution_count": 140,
   "metadata": {},
   "outputs": [
    {
     "data": {
      "text/html": [
       "<div>\n",
       "<style scoped>\n",
       "    .dataframe tbody tr th:only-of-type {\n",
       "        vertical-align: middle;\n",
       "    }\n",
       "\n",
       "    .dataframe tbody tr th {\n",
       "        vertical-align: top;\n",
       "    }\n",
       "\n",
       "    .dataframe thead th {\n",
       "        text-align: right;\n",
       "    }\n",
       "</style>\n",
       "<table border=\"1\" class=\"dataframe\">\n",
       "  <thead>\n",
       "    <tr style=\"text-align: right;\">\n",
       "      <th></th>\n",
       "      <th>words</th>\n",
       "      <th>count</th>\n",
       "    </tr>\n",
       "  </thead>\n",
       "  <tbody>\n",
       "    <tr>\n",
       "      <th>0</th>\n",
       "      <td>the</td>\n",
       "      <td>1500547</td>\n",
       "    </tr>\n",
       "    <tr>\n",
       "      <th>1</th>\n",
       "      <td>and</td>\n",
       "      <td>1387407</td>\n",
       "    </tr>\n",
       "    <tr>\n",
       "      <th>2</th>\n",
       "      <td>a</td>\n",
       "      <td>915942</td>\n",
       "    </tr>\n",
       "    <tr>\n",
       "      <th>3</th>\n",
       "      <td>to</td>\n",
       "      <td>859042</td>\n",
       "    </tr>\n",
       "    <tr>\n",
       "      <th>4</th>\n",
       "      <td>was</td>\n",
       "      <td>694110</td>\n",
       "    </tr>\n",
       "  </tbody>\n",
       "</table>\n",
       "</div>"
      ],
      "text/plain": [
       "  words    count\n",
       "0   the  1500547\n",
       "1   and  1387407\n",
       "2     a   915942\n",
       "3    to   859042\n",
       "4   was   694110"
      ]
     },
     "execution_count": 140,
     "metadata": {},
     "output_type": "execute_result"
    }
   ],
   "source": [
    "clean_word_count = pd.DataFrame(count_word.most_common(5),\n",
    "                             columns=['words', 'count'])\n",
    "\n",
    "clean_word_count.head()"
   ]
  },
  {
   "cell_type": "markdown",
   "metadata": {},
   "source": [
    "The word frequency runs well, but we cannot understand what these words mean.\n",
    "\n",
    "We wouldn't want these words showed up and we can remove them with `nltk` library"
   ]
  },
  {
   "cell_type": "markdown",
   "metadata": {},
   "source": [
    "# Removing Stopwords"
   ]
  },
  {
   "cell_type": "markdown",
   "metadata": {},
   "source": [
    "Stopwords are common in any language.\n",
    "\n",
    "But we should remove them when analyzing text data, as this doesn't add much value for our analysis"
   ]
  },
  {
   "cell_type": "code",
   "execution_count": 14,
   "metadata": {},
   "outputs": [],
   "source": [
    "import nltk\n",
    "from nltk.corpus import stopwords"
   ]
  },
  {
   "cell_type": "code",
   "execution_count": 118,
   "metadata": {},
   "outputs": [
    {
     "data": {
      "text/plain": [
       "[\"isn't\",\n",
       " 'als',\n",
       " 'kon',\n",
       " 'kunnen',\n",
       " 'andere',\n",
       " 'it',\n",
       " 'was',\n",
       " \"hasn't\",\n",
       " \"haven't\",\n",
       " 'doch']"
      ]
     },
     "execution_count": 118,
     "metadata": {},
     "output_type": "execute_result"
    }
   ],
   "source": [
    "stop_words = set(stopwords.words(['dutch','english']))\n",
    "\n",
    "# View a few words from the set\n",
    "list(stop_words)[0:10]"
   ]
  },
  {
   "cell_type": "markdown",
   "metadata": {},
   "source": [
    "Here's some examples of english and dutch stopwords and we'll remove them "
   ]
  },
  {
   "cell_type": "code",
   "execution_count": 29,
   "metadata": {},
   "outputs": [],
   "source": [
    "words_review_cleaned = [word for word in all_words_review if word not in stop_words]\n",
    "words_review_count = collections.Counter(words_review_cleaned)\n",
    "\n",
    "word_review_count_df = pd.DataFrame(words_review_count.most_common(15),\n",
    "                             columns=['words', 'count'])"
   ]
  },
  {
   "cell_type": "code",
   "execution_count": 67,
   "metadata": {},
   "outputs": [
    {
     "data": {
      "image/png": "[encoded data removed]",
      "text/plain": [
       "<Figure size 576x576 with 1 Axes>"
      ]
     },
     "metadata": {
      "needs_background": "light"
     },
     "output_type": "display_data"
    }
   ],
   "source": [
    "fig, ax = plt.subplots(figsize=(8, 8))\n",
    "\n",
    "# Plot horizontal bar graph\n",
    "word_review_count_df.sort_values(by='count').plot.barh(x='words',\n",
    "                      y='count',\n",
    "                      ax=ax,\n",
    "                      color=\"purple\")\n",
    "\n",
    "ax.set_title(\"Popular words in all Review\")\n",
    "\n",
    "plt.show()"
   ]
  },
  {
   "cell_type": "markdown",
   "metadata": {},
   "source": [
    "Notice that the result improved by producing more meaningful words\n",
    "\n",
    "As the rating suggests, most review expresses positive service.\n",
    "\n",
    "Some of the aspects was mentionted, such as  _\"Great\"_  , _\"Location\"_ , _\"Recommend\"_ , _\"Clean\"_ , _\"Close\"_\n"
   ]
  },
  {
   "cell_type": "markdown",
   "metadata": {},
   "source": [
    "# Sentiment Analysis to detect good/bad Reviews"
   ]
  },
  {
   "cell_type": "markdown",
   "metadata": {
    "collapsed": true
   },
   "source": [
    "Sentiment analysis is the process of identifying people's attitude and emotional states from a language.\n",
    "\n",
    "In the application, it able to classify good/bad reviews.\n",
    "\n",
    "It is a technique uses for natural language processing to interpret and classify emotions.\n",
    "\n",
    "The output would summarize the positive, negative, or neutral sentiment of these reviews.\n",
    "\n",
    "Since sentiment analysis is a [complex subject](http://www.360doc.com/content/16/0426/18/2459_554012119.shtml) , the accuracy may not be perfect.\n",
    "\n",
    "But it's easier for us to find a bad review using this approach when there's a lot of data\n",
    "\n",
    "We will be using `nltk` from python to analyze the data"
   ]
  },
  {
   "cell_type": "code",
   "execution_count": 69,
   "metadata": {},
   "outputs": [
    {
     "name": "stdout",
     "output_type": "stream",
     "text": [
      "Kelly has a great room in a very central location. \r\n",
      "Beautiful building , architecture and a style that we really like. \r\n",
      "We felt guite at home here and wish we had spent more time.\r\n",
      "Went for a walk and found Seattle Center with a major food festival in progress. What a treat.\r\n",
      "Visited the Space Needle and the Chihuly Glass exhibit. Then Pikes Place Market. WOW.  Thanks for a great stay.\n",
      "compound: 0.9872, neg: 0.0, neu: 0.609, pos: 0.391, \n",
      "Very spacious apartment, and in a great neighborhood.  This is the kind of apartment I wish I had!\r\n",
      "\r\n",
      "Didn't really get to meet Kelly until I was on my out, but she was always readily available by phone. \r\n",
      "\r\n",
      "I believe the only \"issue\" (if you want to call it that) was finding a place to park, but I sincerely doubt its easy to park anywhere in a residential area after 5 pm on a Friday\n",
      "compound: 0.8718, neg: 0.043, neu: 0.772, pos: 0.185, \n"
     ]
    }
   ],
   "source": [
    "# Snippet from :\n",
    "# https://www.kaggle.com/residentmario/sentiment-analysis-and-collocation-of-reviews\n",
    "\n",
    "from nltk.sentiment.vader import SentimentIntensityAnalyzer\n",
    "sid = SentimentIntensityAnalyzer()\n",
    "for sentence in concat_rev_df['comments'].values[1:3]:\n",
    "    print(sentence)\n",
    "    ss = sid.polarity_scores(sentence)\n",
    "    for k in sorted(ss):\n",
    "        print('{0}: {1}, '.format(k, ss[k]), end='')\n",
    "    print()"
   ]
  },
  {
   "cell_type": "markdown",
   "metadata": {},
   "source": [
    "Let's look at some of the comment example, and how `nltk` determines a revieww\n",
    "\n",
    "`compound` is the normalized weighted score.\n",
    "\n",
    "The metric is useful when determining a uni-dimensional sentiment over a sentence.\n",
    "\n",
    "A positive or negative sentiment being +1 as the most positive and -1 as the most negative\n",
    "\n",
    "The `pos`, `neu`, and `neg` scores are ratios for proportions of text that fall in each category (the values will add up to 1 if summed) . These metrics are useful if we want a multi-dimensional sentiment over a sentence.\n",
    "\n",
    "\n",
    "More about the [scoring](https://github.com/cjhutto/vaderSentiment)"
   ]
  },
  {
   "cell_type": "code",
   "execution_count": 70,
   "metadata": {},
   "outputs": [],
   "source": [
    "from nltk.corpus import stopwords   # stopwords to detect language\n",
    "from nltk import wordpunct_tokenize # function to split up our words\n",
    "\n",
    "def get_language_likelihood(input_text):\n",
    "    \"\"\"Return a dictionary of languages and their likelihood of being the \n",
    "    natural language of the input text\n",
    "    \"\"\"\n",
    " \n",
    "    input_text = input_text.lower()\n",
    "    input_words = wordpunct_tokenize(input_text)\n",
    " \n",
    "    language_likelihood = {}\n",
    "    total_matches = 0\n",
    "    for language in stopwords._fileids:\n",
    "        language_likelihood[language] = len(set(input_words) &\n",
    "                set(stopwords.words(language)))\n",
    " \n",
    "    return language_likelihood\n",
    " \n",
    "def get_language(input_text):\n",
    "    \"\"\"Return the most likely language of the given text\n",
    "    \"\"\" \n",
    "    likelihoods = get_language_likelihood(input_text)\n",
    "    return sorted(likelihoods, key=likelihoods.get, reverse=True)[0]\n",
    "\n",
    "reviews_f = [r for r in concat_rev_df['comments'] if pd.notnull(r) and get_language(r) in ['dutch','english']]\n",
    "\n",
    "pscores = [sid.polarity_scores(comment) for comment in reviews_f]"
   ]
  },
  {
   "cell_type": "markdown",
   "metadata": {},
   "source": [
    "After taking all sentiment scores from the comments,\n",
    "\n",
    "Let's take a look at the distributions"
   ]
  },
  {
   "cell_type": "markdown",
   "metadata": {},
   "source": [
    "##### Neutral Scores"
   ]
  },
  {
   "cell_type": "code",
   "execution_count": 143,
   "metadata": {},
   "outputs": [
    {
     "data": {
      "text/plain": [
       "Text(0, 0.5, 'frequency')"
      ]
     },
     "execution_count": 143,
     "metadata": {},
     "output_type": "execute_result"
    },
    {
     "data": {
      "image/png": "[encoded data removed]",
      "text/plain": [
       "<Figure size 432x288 with 1 Axes>"
      ]
     },
     "metadata": {
      "needs_background": "light"
     },
     "output_type": "display_data"
    }
   ],
   "source": [
    "pd.Series([score['neu'] for score in pscores]).plot(kind='hist')\n",
    "\n",
    "plt.title('Neutral Scores')\n",
    "plt.xlabel('Scores')\n",
    "plt.ylabel('frequency')\n"
   ]
  },
  {
   "cell_type": "markdown",
   "metadata": {},
   "source": [
    "##### Positive Scores"
   ]
  },
  {
   "cell_type": "code",
   "execution_count": 74,
   "metadata": {},
   "outputs": [
    {
     "data": {
      "text/plain": [
       "Text(0, 0.5, 'frequency')"
      ]
     },
     "execution_count": 74,
     "metadata": {},
     "output_type": "execute_result"
    },
    {
     "data": {
      "image/png": "[encoded data removed]",
      "text/plain": [
       "<Figure size 432x288 with 1 Axes>"
      ]
     },
     "metadata": {
      "needs_background": "light"
     },
     "output_type": "display_data"
    }
   ],
   "source": [
    "pd.Series([score['pos'] for score in pscores]).plot(kind='hist')\n",
    "\n",
    "plt.title('Positive Scores')\n",
    "plt.xlabel('Scores')\n",
    "plt.ylabel('frequency')"
   ]
  },
  {
   "cell_type": "markdown",
   "metadata": {},
   "source": [
    "##### Negative Scores"
   ]
  },
  {
   "cell_type": "markdown",
   "metadata": {},
   "source": [
    "Surprisingly, the negative scores was mostly zero.\n",
    "\n",
    "This implies that indeed the experience was pleasant for most Airbnb stay."
   ]
  },
  {
   "cell_type": "code",
   "execution_count": 75,
   "metadata": {},
   "outputs": [
    {
     "data": {
      "text/plain": [
       "Text(0, 0.5, 'frequency')"
      ]
     },
     "execution_count": 75,
     "metadata": {},
     "output_type": "execute_result"
    },
    {
     "data": {
      "image/png": "[encoded data removed]",
      "text/plain": [
       "<Figure size 432x288 with 1 Axes>"
      ]
     },
     "metadata": {
      "needs_background": "light"
     },
     "output_type": "display_data"
    }
   ],
   "source": [
    "pd.Series([score['neg'] for score in pscores]).plot(kind='hist', bins=100)\n",
    "\n",
    "plt.title('Negative Scores')\n",
    "plt.xlabel('Scores')\n",
    "plt.ylabel('frequency')"
   ]
  },
  {
   "cell_type": "code",
   "execution_count": 66,
   "metadata": {},
   "outputs": [],
   "source": [
    "scored_reviews = pd.DataFrame()\n",
    "scored_reviews['review'] = [r for r in reviews_f if get_language(r) in ['dutch','english']]\n"
   ]
  },
  {
   "cell_type": "code",
   "execution_count": 80,
   "metadata": {},
   "outputs": [],
   "source": [
    "scored_reviews['compound'] = [score['compound'] for score in pscores]\n",
    "scored_reviews['negativity'] = [score['neg'] for score in pscores]\n",
    "scored_reviews['neutrality'] = [score['neu'] for score in pscores]\n",
    "scored_reviews['positivity'] = [score['pos'] for score in pscores]"
   ]
  },
  {
   "cell_type": "markdown",
   "metadata": {},
   "source": [
    "#### Inspecting Bad review"
   ]
  },
  {
   "cell_type": "code",
   "execution_count": 99,
   "metadata": {},
   "outputs": [
    {
     "data": {
      "text/html": [
       "<div>\n",
       "<style scoped>\n",
       "    .dataframe tbody tr th:only-of-type {\n",
       "        vertical-align: middle;\n",
       "    }\n",
       "\n",
       "    .dataframe tbody tr th {\n",
       "        vertical-align: top;\n",
       "    }\n",
       "\n",
       "    .dataframe thead th {\n",
       "        text-align: right;\n",
       "    }\n",
       "</style>\n",
       "<table border=\"1\" class=\"dataframe\">\n",
       "  <thead>\n",
       "    <tr style=\"text-align: right;\">\n",
       "      <th></th>\n",
       "      <th>review</th>\n",
       "      <th>compound</th>\n",
       "      <th>negativity</th>\n",
       "      <th>neutrality</th>\n",
       "      <th>positivity</th>\n",
       "    </tr>\n",
       "  </thead>\n",
       "  <tbody>\n",
       "    <tr>\n",
       "      <th>1302</th>\n",
       "      <td>Leah was very responsive and attentive. When I...</td>\n",
       "      <td>-0.8725</td>\n",
       "      <td>0.087</td>\n",
       "      <td>0.852</td>\n",
       "      <td>0.061</td>\n",
       "    </tr>\n",
       "    <tr>\n",
       "      <th>2099</th>\n",
       "      <td>At first time, Pj was nice and answer quickly ...</td>\n",
       "      <td>-0.8537</td>\n",
       "      <td>0.160</td>\n",
       "      <td>0.747</td>\n",
       "      <td>0.093</td>\n",
       "    </tr>\n",
       "    <tr>\n",
       "      <th>2825</th>\n",
       "      <td>Great neighborhood, but the \"patio\" photo was ...</td>\n",
       "      <td>-0.8551</td>\n",
       "      <td>0.209</td>\n",
       "      <td>0.708</td>\n",
       "      <td>0.083</td>\n",
       "    </tr>\n",
       "    <tr>\n",
       "      <th>3282</th>\n",
       "      <td>The place we stayed was completely different f...</td>\n",
       "      <td>-0.5106</td>\n",
       "      <td>0.057</td>\n",
       "      <td>0.943</td>\n",
       "      <td>0.000</td>\n",
       "    </tr>\n",
       "    <tr>\n",
       "      <th>3758</th>\n",
       "      <td>Mia hosted me even though it was during a busy...</td>\n",
       "      <td>-0.6956</td>\n",
       "      <td>0.111</td>\n",
       "      <td>0.889</td>\n",
       "      <td>0.000</td>\n",
       "    </tr>\n",
       "    <tr>\n",
       "      <th>...</th>\n",
       "      <td>...</td>\n",
       "      <td>...</td>\n",
       "      <td>...</td>\n",
       "      <td>...</td>\n",
       "      <td>...</td>\n",
       "    </tr>\n",
       "    <tr>\n",
       "      <th>517873</th>\n",
       "      <td>First of all, the stairs are not good for old ...</td>\n",
       "      <td>-0.5272</td>\n",
       "      <td>0.121</td>\n",
       "      <td>0.816</td>\n",
       "      <td>0.063</td>\n",
       "    </tr>\n",
       "    <tr>\n",
       "      <th>517895</th>\n",
       "      <td>Personeel is zeer gastvrij.\\nLeuke kamer.\\nGoe...</td>\n",
       "      <td>-0.5994</td>\n",
       "      <td>0.145</td>\n",
       "      <td>0.855</td>\n",
       "      <td>0.000</td>\n",
       "    </tr>\n",
       "    <tr>\n",
       "      <th>517989</th>\n",
       "      <td>Very horrible</td>\n",
       "      <td>-0.5849</td>\n",
       "      <td>0.791</td>\n",
       "      <td>0.209</td>\n",
       "      <td>0.000</td>\n",
       "    </tr>\n",
       "    <tr>\n",
       "      <th>517996</th>\n",
       "      <td>Not an accurate description. The photos didn’t...</td>\n",
       "      <td>-0.9389</td>\n",
       "      <td>0.216</td>\n",
       "      <td>0.725</td>\n",
       "      <td>0.058</td>\n",
       "    </tr>\n",
       "    <tr>\n",
       "      <th>518014</th>\n",
       "      <td>dishwasher that smells of death with all the d...</td>\n",
       "      <td>-0.7783</td>\n",
       "      <td>0.174</td>\n",
       "      <td>0.792</td>\n",
       "      <td>0.034</td>\n",
       "    </tr>\n",
       "  </tbody>\n",
       "</table>\n",
       "<p>3026 rows × 5 columns</p>\n",
       "</div>"
      ],
      "text/plain": [
       "                                                   review  compound  \\\n",
       "1302    Leah was very responsive and attentive. When I...   -0.8725   \n",
       "2099    At first time, Pj was nice and answer quickly ...   -0.8537   \n",
       "2825    Great neighborhood, but the \"patio\" photo was ...   -0.8551   \n",
       "3282    The place we stayed was completely different f...   -0.5106   \n",
       "3758    Mia hosted me even though it was during a busy...   -0.6956   \n",
       "...                                                   ...       ...   \n",
       "517873  First of all, the stairs are not good for old ...   -0.5272   \n",
       "517895  Personeel is zeer gastvrij.\\nLeuke kamer.\\nGoe...   -0.5994   \n",
       "517989                                      Very horrible   -0.5849   \n",
       "517996  Not an accurate description. The photos didn’t...   -0.9389   \n",
       "518014  dishwasher that smells of death with all the d...   -0.7783   \n",
       "\n",
       "        negativity  neutrality  positivity  \n",
       "1302         0.087       0.852       0.061  \n",
       "2099         0.160       0.747       0.093  \n",
       "2825         0.209       0.708       0.083  \n",
       "3282         0.057       0.943       0.000  \n",
       "3758         0.111       0.889       0.000  \n",
       "...            ...         ...         ...  \n",
       "517873       0.121       0.816       0.063  \n",
       "517895       0.145       0.855       0.000  \n",
       "517989       0.791       0.209       0.000  \n",
       "517996       0.216       0.725       0.058  \n",
       "518014       0.174       0.792       0.034  \n",
       "\n",
       "[3026 rows x 5 columns]"
      ]
     },
     "execution_count": 99,
     "metadata": {},
     "output_type": "execute_result"
    }
   ],
   "source": [
    "scored_reviews.query('compound < -0.5')"
   ]
  },
  {
   "cell_type": "code",
   "execution_count": 97,
   "metadata": {},
   "outputs": [
    {
     "data": {
      "text/plain": [
       "'Great neighborhood, but the \"patio\" photo was misleading. There was no table and chair(s) - you have to climb out a window onto a roof that can be accessed by several other windows, so limited privacy.\\r\\nIt would have been helpful to know before booking that there was no coffee maker, toaster, or microwave and that parking can be difficult.\\r\\nComfy bed, though.'"
      ]
     },
     "execution_count": 97,
     "metadata": {},
     "output_type": "execute_result"
    }
   ],
   "source": [
    "scored_reviews.iloc[2825]['review']"
   ]
  },
  {
   "cell_type": "markdown",
   "metadata": {},
   "source": [
    "Started out as a positive review, the follow up sentence was mostly negative.\n",
    "\n",
    "This was accurate, being positivity (0.083) is lower than negativity (0.209) metric."
   ]
  },
  {
   "cell_type": "code",
   "execution_count": 98,
   "metadata": {},
   "outputs": [
    {
     "data": {
      "text/plain": [
       "'Personeel is zeer gastvrij.\\nLeuke kamer.\\nGoed gelegen, je kan overal snel geraken met de tramhalte die nabij is.\\nMusea is te voet bereikbaar.'"
      ]
     },
     "execution_count": 98,
     "metadata": {},
     "output_type": "execute_result"
    }
   ],
   "source": [
    "scored_reviews.iloc[517895]['review']"
   ]
  },
  {
   "cell_type": "markdown",
   "metadata": {},
   "source": [
    "The compound metric itself may not all accurate. It detects the sentence as bad\n",
    "\n",
    "if we translate this,it basically saying that the location of the stay was good with helpful staff.\n",
    "\n",
    "Thus , we should also look into negativity and neutrality to justify bad review\n",
    "\n"
   ]
  },
  {
   "cell_type": "code",
   "execution_count": 106,
   "metadata": {},
   "outputs": [
    {
     "data": {
      "text/html": [
       "<div>\n",
       "<style scoped>\n",
       "    .dataframe tbody tr th:only-of-type {\n",
       "        vertical-align: middle;\n",
       "    }\n",
       "\n",
       "    .dataframe tbody tr th {\n",
       "        vertical-align: top;\n",
       "    }\n",
       "\n",
       "    .dataframe thead th {\n",
       "        text-align: right;\n",
       "    }\n",
       "</style>\n",
       "<table border=\"1\" class=\"dataframe\">\n",
       "  <thead>\n",
       "    <tr style=\"text-align: right;\">\n",
       "      <th></th>\n",
       "      <th>review</th>\n",
       "      <th>compound</th>\n",
       "      <th>negativity</th>\n",
       "      <th>neutrality</th>\n",
       "      <th>positivity</th>\n",
       "    </tr>\n",
       "  </thead>\n",
       "  <tbody>\n",
       "    <tr>\n",
       "      <th>1302</th>\n",
       "      <td>Leah was very responsive and attentive. When I...</td>\n",
       "      <td>-0.8725</td>\n",
       "      <td>0.087</td>\n",
       "      <td>0.852</td>\n",
       "      <td>0.061</td>\n",
       "    </tr>\n",
       "    <tr>\n",
       "      <th>2099</th>\n",
       "      <td>At first time, Pj was nice and answer quickly ...</td>\n",
       "      <td>-0.8537</td>\n",
       "      <td>0.160</td>\n",
       "      <td>0.747</td>\n",
       "      <td>0.093</td>\n",
       "    </tr>\n",
       "    <tr>\n",
       "      <th>2825</th>\n",
       "      <td>Great neighborhood, but the \"patio\" photo was ...</td>\n",
       "      <td>-0.8551</td>\n",
       "      <td>0.209</td>\n",
       "      <td>0.708</td>\n",
       "      <td>0.083</td>\n",
       "    </tr>\n",
       "    <tr>\n",
       "      <th>4789</th>\n",
       "      <td>I was disappointed in the rental.  It had no t...</td>\n",
       "      <td>-0.9306</td>\n",
       "      <td>0.230</td>\n",
       "      <td>0.770</td>\n",
       "      <td>0.000</td>\n",
       "    </tr>\n",
       "    <tr>\n",
       "      <th>4989</th>\n",
       "      <td>Overall, I was disappointed in the rental and ...</td>\n",
       "      <td>-0.8910</td>\n",
       "      <td>0.123</td>\n",
       "      <td>0.803</td>\n",
       "      <td>0.075</td>\n",
       "    </tr>\n",
       "    <tr>\n",
       "      <th>...</th>\n",
       "      <td>...</td>\n",
       "      <td>...</td>\n",
       "      <td>...</td>\n",
       "      <td>...</td>\n",
       "      <td>...</td>\n",
       "    </tr>\n",
       "    <tr>\n",
       "      <th>515981</th>\n",
       "      <td>The experience was just a nightmare...basicall...</td>\n",
       "      <td>-0.9371</td>\n",
       "      <td>0.113</td>\n",
       "      <td>0.887</td>\n",
       "      <td>0.000</td>\n",
       "    </tr>\n",
       "    <tr>\n",
       "      <th>516995</th>\n",
       "      <td>Hotel met vriendelijk personeel op een goede l...</td>\n",
       "      <td>-0.8271</td>\n",
       "      <td>0.061</td>\n",
       "      <td>0.939</td>\n",
       "      <td>0.000</td>\n",
       "    </tr>\n",
       "    <tr>\n",
       "      <th>517110</th>\n",
       "      <td>Really disappointed at the failure of the host...</td>\n",
       "      <td>-0.9234</td>\n",
       "      <td>0.195</td>\n",
       "      <td>0.777</td>\n",
       "      <td>0.028</td>\n",
       "    </tr>\n",
       "    <tr>\n",
       "      <th>517388</th>\n",
       "      <td>Nice apartment but 50 minute walk from the cit...</td>\n",
       "      <td>-0.8102</td>\n",
       "      <td>0.113</td>\n",
       "      <td>0.861</td>\n",
       "      <td>0.026</td>\n",
       "    </tr>\n",
       "    <tr>\n",
       "      <th>517996</th>\n",
       "      <td>Not an accurate description. The photos didn’t...</td>\n",
       "      <td>-0.9389</td>\n",
       "      <td>0.216</td>\n",
       "      <td>0.725</td>\n",
       "      <td>0.058</td>\n",
       "    </tr>\n",
       "  </tbody>\n",
       "</table>\n",
       "<p>1089 rows × 5 columns</p>\n",
       "</div>"
      ],
      "text/plain": [
       "                                                   review  compound  \\\n",
       "1302    Leah was very responsive and attentive. When I...   -0.8725   \n",
       "2099    At first time, Pj was nice and answer quickly ...   -0.8537   \n",
       "2825    Great neighborhood, but the \"patio\" photo was ...   -0.8551   \n",
       "4789    I was disappointed in the rental.  It had no t...   -0.9306   \n",
       "4989    Overall, I was disappointed in the rental and ...   -0.8910   \n",
       "...                                                   ...       ...   \n",
       "515981  The experience was just a nightmare...basicall...   -0.9371   \n",
       "516995  Hotel met vriendelijk personeel op een goede l...   -0.8271   \n",
       "517110  Really disappointed at the failure of the host...   -0.9234   \n",
       "517388  Nice apartment but 50 minute walk from the cit...   -0.8102   \n",
       "517996  Not an accurate description. The photos didn’t...   -0.9389   \n",
       "\n",
       "        negativity  neutrality  positivity  \n",
       "1302         0.087       0.852       0.061  \n",
       "2099         0.160       0.747       0.093  \n",
       "2825         0.209       0.708       0.083  \n",
       "4789         0.230       0.770       0.000  \n",
       "4989         0.123       0.803       0.075  \n",
       "...            ...         ...         ...  \n",
       "515981       0.113       0.887       0.000  \n",
       "516995       0.061       0.939       0.000  \n",
       "517110       0.195       0.777       0.028  \n",
       "517388       0.113       0.861       0.026  \n",
       "517996       0.216       0.725       0.058  \n",
       "\n",
       "[1089 rows x 5 columns]"
      ]
     },
     "execution_count": 106,
     "metadata": {},
     "output_type": "execute_result"
    }
   ],
   "source": [
    "scored_reviews.query('negativity > positivity').query('compound < -0.8')"
   ]
  },
  {
   "cell_type": "code",
   "execution_count": 105,
   "metadata": {},
   "outputs": [
    {
     "data": {
      "text/plain": [
       "\"Hotel met vriendelijk personeel op een goede locatie in De Pijp, aan het park en niet ver van de metrohalte. De kamer had wat mindere punten, zo lag een van de twee bedden niet fijn, omdat het matras smaller was dan de topper die erop lag, waardoor je schuin ligt of eraf glijdt als je een beetje naar de zijkant ligt. Ook was het gordijn in onze kamer te smal om het hele raam te bedekken en was er 's nachts veel herrie buiten. \\nAl met al een prima betaalbaar hotel om een nachtje in Amsterdam te verblijven, vanwege de goede bereikbaarheid met het OV en de vele leuke cafeetjes en restaurantjes in de buurt. Voor een langer verblijf vind ik het niet zo geschikt, omdat we door bovengenoemde punten niet zo'n hele goede nachtrust hebben gehad.\""
      ]
     },
     "execution_count": 105,
     "metadata": {},
     "output_type": "execute_result"
    }
   ],
   "source": [
    "scored_reviews.iloc[516995]['review']"
   ]
  },
  {
   "cell_type": "markdown",
   "metadata": {},
   "source": [
    "We found a dutch review with the unpleasant comment saying that the place was not good for a long stay\n",
    "But, the threshold was too strict to find these negative comments.\n",
    "The tradeoff is that we may find only a small fraction of review"
   ]
  },
  {
   "cell_type": "markdown",
   "metadata": {},
   "source": [
    "#### Analysis result need human assistance"
   ]
  },
  {
   "cell_type": "markdown",
   "metadata": {},
   "source": [
    "After looking into each review, we'd say that the sentiment analysis would need more supervision.\n",
    "\n",
    "The result sometimes not very clear to determine negative reviews unless we'd put a strict threshold. \n",
    "\n",
    "But, it's enough for this tool to give recommendations from the bad reviews and take action to improve experiences\n",
    "\n",
    "\n",
    "\n"
   ]
  },
  {
   "cell_type": "markdown",
   "metadata": {},
   "source": [
    "## Summary & Future Work"
   ]
  },
  {
   "cell_type": "markdown",
   "metadata": {},
   "source": [
    "- Airbnb have pleasant experience when using the service, the ratings were ±90%\n",
    "- Data cleaning with removing stopwords is essential to find most frequent word\n",
    "- NLTK able to detect bad review and sometimes would need human assistance to improve it's accuracy\n",
    "- Bad review able to be solved by reading what are customers complaints\n",
    "- For future research, we need to compare other tool that'd able to give accurac"
   ]
  },
  {
   "cell_type": "markdown",
   "metadata": {},
   "source": [
    "## References "
   ]
  },
  {
   "cell_type": "markdown",
   "metadata": {},
   "source": [
    "- [earthdatascience](https://www.earthdatascience.org/courses/use-data-open-source-python/intro-to-apis/calculate-tweet-word-frequencies-in-python/)\n",
    "- [360doc](http://www.360doc.com/content/16/0426/18/2459_554012119.shtml)\n",
    "- [Kaggle](https://www.kaggle.com/residentmario/sentiment-analysis-and-collocation-of-reviews)\n",
    "- [Soundwave](https://soundwave.co.uk/blog/study-finds-67-of-consumers-are-influenced-by-online-reviews)"
   ]
  },
  {
   "cell_type": "code",
   "execution_count": null,
   "metadata": {},
   "outputs": [],
   "source": []
  }
 ],
 "metadata": {
  "kernelspec": {
   "display_name": "Python 3",
   "language": "python",
   "name": "python3"
  },
  "language_info": {
   "codemirror_mode": {
    "name": "ipython",
    "version": 3
   },
   "file_extension": ".py",
   "mimetype": "text/x-python",
   "name": "python",
   "nbconvert_exporter": "python",
   "pygments_lexer": "ipython3",
   "version": "3.7.6"
  }
 },
 "nbformat": 4,
 "nbformat_minor": 4
}
