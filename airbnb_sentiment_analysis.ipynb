{
 "cells": [
  {
   "cell_type": "markdown",
   "metadata": {},
   "source": [
    "# AirBNB Sentiment Analysis"
   ]
  },
  {
   "cell_type": "markdown",
   "metadata": {},
   "source": [
    "[Airbnb](https://www.airbnb.com/) is a popular online marketplace that connects people who rent their space to people who are looking for accomodations in that area\n",
    "\n",
    "Customers can leave reviews for the rented space and sometimes bad ones can scare people away.\n",
    "\n",
    "We'll analyze how's the review looks like, from Airbnb public data."
   ]
  },
  {
   "cell_type": "markdown",
   "metadata": {},
   "source": [
    "## Business Understanding\n",
    "\n",
    "Bad review could turn customers away.\n",
    "\n",
    "It's now common for a customer to do their own research before deciding a buy. \n",
    "Some aspects they like to compare are price, product review, brand, etc. \n",
    "During their own research, consumer able to look for positive or negative reviews.\n",
    "\n",
    "\n",
    "A study founds that online reviews affect [67%](https://soundwave.co.uk/blog/study-finds-67-of-consumers-are-influenced-by-online-reviews) of consumer purchasing decision. \n",
    "Positive reviews would increase the reputation, and able to drive more sales. \n",
    "Meanwhile, negative reviews could be detrimental to business. Revenue Loss, Undermine brand image, drive away customer visit, and low search traffic.\n",
    "\n",
    "Thus, it's essential for the business to find bad review and take action to improve the product/service\n",
    "\n",
    "These are the questions that we wish to answer in this analysis : \n",
    "- How to identify positive and negative reviews? \n",
    "- What are the popular words from the customers? \n",
    "- How to detect negative reviews and does it robust enough to detect the sentiment?"
   ]
  },
  {
   "cell_type": "markdown",
   "metadata": {},
   "source": [
    "## Data Understanding\n",
    "\n",
    "The data taken from Airbnb for 3 cities (Boston, Seattle, Amsterdam)\n",
    "\n",
    "- City : [Boston](https://www.kaggle.com/airbnb/boston), [Seattle](https://www.kaggle.com/airbnb/seattle/data), [Amsterdam](http://insideairbnb.com/get-the-data.html)\n",
    "\n",
    "- List : Contains the description of review and ratings\n",
    "\n",
    "- Reviews: contains ID for reviewer and comments \n",
    "    \n",
    "In this analysis, first, we will find the overall rating of the service and find the popular review words.\n",
    "\n",
    "Then we will use the sentiment analysis technique to find bad reviews\n",
    "\n",
    "The sentiment analysis uses NLTK, which is a powerful language tool to analyze text data. It covers many language forms to assess the sentiment review in this analysis.\n",
    "\n",
    "To see how nltk performs in a non-English language, we are adding dutch language in Amsterdam Airbnb."
   ]
  },
  {
   "cell_type": "markdown",
   "metadata": {},
   "source": [
    "#### Import & Overview of dataset"
   ]
  },
  {
   "cell_type": "code",
   "execution_count": 152,
   "metadata": {},
   "outputs": [],
   "source": [
    "import pandas as pd \n",
    "#Load Dataset\n",
    "seattle_raw_list = pd.read_csv(\"/Users/yogisharosarumaha/Udacity Project 1/airbnb_seattle_data/listings.csv\") \n",
    "seattle_raw_review = pd.read_csv(\"/Users/yogisharosarumaha/Udacity Project 1/airbnb_seattle_data/reviews.csv\") \n",
    "\n",
    "boston_raw_list = pd.read_csv(\"/Users/yogisharosarumaha/Udacity Project 1/airbnb_boston_data/listings.csv\") \n",
    "boston_raw_review = pd.read_csv(\"/Users/yogisharosarumaha/Udacity Project 1/airbnb_boston_data/reviews.csv\") \n",
    "\n",
    "amsterdam_raw_list = pd.read_csv(\"/Users/yogisharosarumaha/Udacity Project 1/airbnb_amsterdam_data/listings.csv\") \n",
    "amsterdam_raw_review = pd.read_csv(\"/Users/yogisharosarumaha/Udacity Project 1/airbnb_amsterdam_data/reviews.csv\") "
   ]
  },
  {
   "cell_type": "code",
   "execution_count": 153,
   "metadata": {
    "scrolled": true
   },
   "outputs": [
    {
     "data": {
      "text/html": [
       "<div>\n",
       "<style scoped>\n",
       "    .dataframe tbody tr th:only-of-type {\n",
       "        vertical-align: middle;\n",
       "    }\n",
       "\n",
       "    .dataframe tbody tr th {\n",
       "        vertical-align: top;\n",
       "    }\n",
       "\n",
       "    .dataframe thead th {\n",
       "        text-align: right;\n",
       "    }\n",
       "</style>\n",
       "<table border=\"1\" class=\"dataframe\">\n",
       "  <thead>\n",
       "    <tr style=\"text-align: right;\">\n",
       "      <th></th>\n",
       "      <th>id</th>\n",
       "      <th>listing_url</th>\n",
       "      <th>scrape_id</th>\n",
       "      <th>last_scraped</th>\n",
       "      <th>name</th>\n",
       "      <th>summary</th>\n",
       "      <th>space</th>\n",
       "      <th>description</th>\n",
       "      <th>experiences_offered</th>\n",
       "      <th>neighborhood_overview</th>\n",
       "      <th>...</th>\n",
       "      <th>review_scores_value</th>\n",
       "      <th>requires_license</th>\n",
       "      <th>license</th>\n",
       "      <th>jurisdiction_names</th>\n",
       "      <th>instant_bookable</th>\n",
       "      <th>cancellation_policy</th>\n",
       "      <th>require_guest_profile_picture</th>\n",
       "      <th>require_guest_phone_verification</th>\n",
       "      <th>calculated_host_listings_count</th>\n",
       "      <th>reviews_per_month</th>\n",
       "    </tr>\n",
       "  </thead>\n",
       "  <tbody>\n",
       "    <tr>\n",
       "      <th>0</th>\n",
       "      <td>241032</td>\n",
       "      <td>https://www.airbnb.com/rooms/241032</td>\n",
       "      <td>20160104002432</td>\n",
       "      <td>2016-01-04</td>\n",
       "      <td>Stylish Queen Anne Apartment</td>\n",
       "      <td>NaN</td>\n",
       "      <td>Make your self at home in this charming one-be...</td>\n",
       "      <td>Make your self at home in this charming one-be...</td>\n",
       "      <td>none</td>\n",
       "      <td>NaN</td>\n",
       "      <td>...</td>\n",
       "      <td>10.0</td>\n",
       "      <td>f</td>\n",
       "      <td>NaN</td>\n",
       "      <td>WASHINGTON</td>\n",
       "      <td>f</td>\n",
       "      <td>moderate</td>\n",
       "      <td>f</td>\n",
       "      <td>f</td>\n",
       "      <td>2</td>\n",
       "      <td>4.07</td>\n",
       "    </tr>\n",
       "    <tr>\n",
       "      <th>1</th>\n",
       "      <td>953595</td>\n",
       "      <td>https://www.airbnb.com/rooms/953595</td>\n",
       "      <td>20160104002432</td>\n",
       "      <td>2016-01-04</td>\n",
       "      <td>Bright &amp; Airy Queen Anne Apartment</td>\n",
       "      <td>Chemically sensitive? We've removed the irrita...</td>\n",
       "      <td>Beautiful, hypoallergenic apartment in an extr...</td>\n",
       "      <td>Chemically sensitive? We've removed the irrita...</td>\n",
       "      <td>none</td>\n",
       "      <td>Queen Anne is a wonderful, truly functional vi...</td>\n",
       "      <td>...</td>\n",
       "      <td>10.0</td>\n",
       "      <td>f</td>\n",
       "      <td>NaN</td>\n",
       "      <td>WASHINGTON</td>\n",
       "      <td>f</td>\n",
       "      <td>strict</td>\n",
       "      <td>t</td>\n",
       "      <td>t</td>\n",
       "      <td>6</td>\n",
       "      <td>1.48</td>\n",
       "    </tr>\n",
       "    <tr>\n",
       "      <th>2</th>\n",
       "      <td>3308979</td>\n",
       "      <td>https://www.airbnb.com/rooms/3308979</td>\n",
       "      <td>20160104002432</td>\n",
       "      <td>2016-01-04</td>\n",
       "      <td>New Modern House-Amazing water view</td>\n",
       "      <td>New modern house built in 2013.  Spectacular s...</td>\n",
       "      <td>Our house is modern, light and fresh with a wa...</td>\n",
       "      <td>New modern house built in 2013.  Spectacular s...</td>\n",
       "      <td>none</td>\n",
       "      <td>Upper Queen Anne is a charming neighborhood fu...</td>\n",
       "      <td>...</td>\n",
       "      <td>10.0</td>\n",
       "      <td>f</td>\n",
       "      <td>NaN</td>\n",
       "      <td>WASHINGTON</td>\n",
       "      <td>f</td>\n",
       "      <td>strict</td>\n",
       "      <td>f</td>\n",
       "      <td>f</td>\n",
       "      <td>2</td>\n",
       "      <td>1.15</td>\n",
       "    </tr>\n",
       "  </tbody>\n",
       "</table>\n",
       "<p>3 rows × 92 columns</p>\n",
       "</div>"
      ],
      "text/plain": [
       "        id                           listing_url       scrape_id last_scraped  \\\n",
       "0   241032   https://www.airbnb.com/rooms/241032  20160104002432   2016-01-04   \n",
       "1   953595   https://www.airbnb.com/rooms/953595  20160104002432   2016-01-04   \n",
       "2  3308979  https://www.airbnb.com/rooms/3308979  20160104002432   2016-01-04   \n",
       "\n",
       "                                  name  \\\n",
       "0         Stylish Queen Anne Apartment   \n",
       "1   Bright & Airy Queen Anne Apartment   \n",
       "2  New Modern House-Amazing water view   \n",
       "\n",
       "                                             summary  \\\n",
       "0                                                NaN   \n",
       "1  Chemically sensitive? We've removed the irrita...   \n",
       "2  New modern house built in 2013.  Spectacular s...   \n",
       "\n",
       "                                               space  \\\n",
       "0  Make your self at home in this charming one-be...   \n",
       "1  Beautiful, hypoallergenic apartment in an extr...   \n",
       "2  Our house is modern, light and fresh with a wa...   \n",
       "\n",
       "                                         description experiences_offered  \\\n",
       "0  Make your self at home in this charming one-be...                none   \n",
       "1  Chemically sensitive? We've removed the irrita...                none   \n",
       "2  New modern house built in 2013.  Spectacular s...                none   \n",
       "\n",
       "                               neighborhood_overview  ... review_scores_value  \\\n",
       "0                                                NaN  ...                10.0   \n",
       "1  Queen Anne is a wonderful, truly functional vi...  ...                10.0   \n",
       "2  Upper Queen Anne is a charming neighborhood fu...  ...                10.0   \n",
       "\n",
       "  requires_license license jurisdiction_names instant_bookable  \\\n",
       "0                f     NaN         WASHINGTON                f   \n",
       "1                f     NaN         WASHINGTON                f   \n",
       "2                f     NaN         WASHINGTON                f   \n",
       "\n",
       "  cancellation_policy  require_guest_profile_picture  \\\n",
       "0            moderate                              f   \n",
       "1              strict                              t   \n",
       "2              strict                              f   \n",
       "\n",
       "  require_guest_phone_verification calculated_host_listings_count  \\\n",
       "0                                f                              2   \n",
       "1                                t                              6   \n",
       "2                                f                              2   \n",
       "\n",
       "  reviews_per_month  \n",
       "0              4.07  \n",
       "1              1.48  \n",
       "2              1.15  \n",
       "\n",
       "[3 rows x 92 columns]"
      ]
     },
     "metadata": {},
     "output_type": "display_data"
    },
    {
     "data": {
      "text/html": [
       "<div>\n",
       "<style scoped>\n",
       "    .dataframe tbody tr th:only-of-type {\n",
       "        vertical-align: middle;\n",
       "    }\n",
       "\n",
       "    .dataframe tbody tr th {\n",
       "        vertical-align: top;\n",
       "    }\n",
       "\n",
       "    .dataframe thead th {\n",
       "        text-align: right;\n",
       "    }\n",
       "</style>\n",
       "<table border=\"1\" class=\"dataframe\">\n",
       "  <thead>\n",
       "    <tr style=\"text-align: right;\">\n",
       "      <th></th>\n",
       "      <th>listing_id</th>\n",
       "      <th>id</th>\n",
       "      <th>date</th>\n",
       "      <th>reviewer_id</th>\n",
       "      <th>reviewer_name</th>\n",
       "      <th>comments</th>\n",
       "    </tr>\n",
       "  </thead>\n",
       "  <tbody>\n",
       "    <tr>\n",
       "      <th>0</th>\n",
       "      <td>7202016</td>\n",
       "      <td>38917982</td>\n",
       "      <td>2015-07-19</td>\n",
       "      <td>28943674</td>\n",
       "      <td>Bianca</td>\n",
       "      <td>Cute and cozy place. Perfect location to every...</td>\n",
       "    </tr>\n",
       "    <tr>\n",
       "      <th>1</th>\n",
       "      <td>7202016</td>\n",
       "      <td>39087409</td>\n",
       "      <td>2015-07-20</td>\n",
       "      <td>32440555</td>\n",
       "      <td>Frank</td>\n",
       "      <td>Kelly has a great room in a very central locat...</td>\n",
       "    </tr>\n",
       "    <tr>\n",
       "      <th>2</th>\n",
       "      <td>7202016</td>\n",
       "      <td>39820030</td>\n",
       "      <td>2015-07-26</td>\n",
       "      <td>37722850</td>\n",
       "      <td>Ian</td>\n",
       "      <td>Very spacious apartment, and in a great neighb...</td>\n",
       "    </tr>\n",
       "  </tbody>\n",
       "</table>\n",
       "</div>"
      ],
      "text/plain": [
       "   listing_id        id        date  reviewer_id reviewer_name  \\\n",
       "0     7202016  38917982  2015-07-19     28943674        Bianca   \n",
       "1     7202016  39087409  2015-07-20     32440555         Frank   \n",
       "2     7202016  39820030  2015-07-26     37722850           Ian   \n",
       "\n",
       "                                            comments  \n",
       "0  Cute and cozy place. Perfect location to every...  \n",
       "1  Kelly has a great room in a very central locat...  \n",
       "2  Very spacious apartment, and in a great neighb...  "
      ]
     },
     "metadata": {},
     "output_type": "display_data"
    }
   ],
   "source": [
    "#Look at the first rows from Listings and Review dataset\n",
    "display(seattle_raw_list.head(3),seattle_raw_review.head(3))"
   ]
  },
  {
   "cell_type": "markdown",
   "metadata": {},
   "source": [
    "#### Combine dataset"
   ]
  },
  {
   "cell_type": "code",
   "execution_count": 154,
   "metadata": {},
   "outputs": [],
   "source": [
    "#Label each area\n",
    "seattle_raw_list['area'] = 'seattle'\n",
    "seattle_raw_review['area'] = 'seattle'\n",
    "\n",
    "boston_raw_list['area'] = 'boston'\n",
    "boston_raw_review['area'] = 'boston'\n",
    "\n",
    "amsterdam_raw_list['area'] = 'amsterdam'\n",
    "amsterdam_raw_review['area'] = 'amsterdam'\n",
    "\n",
    "#Union all the cities dataset\n",
    "concat_list_df = pd.concat([seattle_raw_list,boston_raw_list,amsterdam_raw_list], ignore_index=True)\n",
    "concat_review_df = pd.concat([seattle_raw_review,boston_raw_review,amsterdam_raw_review], ignore_index=True)"
   ]
  },
  {
   "cell_type": "markdown",
   "metadata": {},
   "source": [
    "#### Airbnb Stay have Positive Review"
   ]
  },
  {
   "cell_type": "markdown",
   "metadata": {},
   "source": [
    "Customers in 3 different areas have great room stay experiece with ratings ~90\n",
    "\n",
    "This is common for the reviews to have more positive than negative in services apps, as they keep improving over time."
   ]
  },
  {
   "cell_type": "code",
   "execution_count": 155,
   "metadata": {
    "scrolled": false
   },
   "outputs": [
    {
     "data": {
      "text/html": [
       "<div>\n",
       "<style scoped>\n",
       "    .dataframe tbody tr th:only-of-type {\n",
       "        vertical-align: middle;\n",
       "    }\n",
       "\n",
       "    .dataframe tbody tr th {\n",
       "        vertical-align: top;\n",
       "    }\n",
       "\n",
       "    .dataframe thead th {\n",
       "        text-align: right;\n",
       "    }\n",
       "</style>\n",
       "<table border=\"1\" class=\"dataframe\">\n",
       "  <thead>\n",
       "    <tr style=\"text-align: right;\">\n",
       "      <th>area</th>\n",
       "      <th>amsterdam</th>\n",
       "      <th>boston</th>\n",
       "      <th>seattle</th>\n",
       "    </tr>\n",
       "  </thead>\n",
       "  <tbody>\n",
       "    <tr>\n",
       "      <th>count</th>\n",
       "      <td>16240.000000</td>\n",
       "      <td>2772.000000</td>\n",
       "      <td>3171.000000</td>\n",
       "    </tr>\n",
       "    <tr>\n",
       "      <th>mean</th>\n",
       "      <td>95.177094</td>\n",
       "      <td>91.916667</td>\n",
       "      <td>94.539262</td>\n",
       "    </tr>\n",
       "    <tr>\n",
       "      <th>std</th>\n",
       "      <td>6.841266</td>\n",
       "      <td>9.531686</td>\n",
       "      <td>6.606083</td>\n",
       "    </tr>\n",
       "    <tr>\n",
       "      <th>min</th>\n",
       "      <td>20.000000</td>\n",
       "      <td>20.000000</td>\n",
       "      <td>20.000000</td>\n",
       "    </tr>\n",
       "    <tr>\n",
       "      <th>25%</th>\n",
       "      <td>93.000000</td>\n",
       "      <td>89.000000</td>\n",
       "      <td>93.000000</td>\n",
       "    </tr>\n",
       "    <tr>\n",
       "      <th>50%</th>\n",
       "      <td>97.000000</td>\n",
       "      <td>94.000000</td>\n",
       "      <td>96.000000</td>\n",
       "    </tr>\n",
       "    <tr>\n",
       "      <th>75%</th>\n",
       "      <td>100.000000</td>\n",
       "      <td>98.250000</td>\n",
       "      <td>99.000000</td>\n",
       "    </tr>\n",
       "    <tr>\n",
       "      <th>max</th>\n",
       "      <td>100.000000</td>\n",
       "      <td>100.000000</td>\n",
       "      <td>100.000000</td>\n",
       "    </tr>\n",
       "  </tbody>\n",
       "</table>\n",
       "</div>"
      ],
      "text/plain": [
       "area      amsterdam       boston      seattle\n",
       "count  16240.000000  2772.000000  3171.000000\n",
       "mean      95.177094    91.916667    94.539262\n",
       "std        6.841266     9.531686     6.606083\n",
       "min       20.000000    20.000000    20.000000\n",
       "25%       93.000000    89.000000    93.000000\n",
       "50%       97.000000    94.000000    96.000000\n",
       "75%      100.000000    98.250000    99.000000\n",
       "max      100.000000   100.000000   100.000000"
      ]
     },
     "execution_count": 155,
     "metadata": {},
     "output_type": "execute_result"
    }
   ],
   "source": [
    "concat_list_df.groupby('area')[\"review_scores_rating\"].describe().transpose()"
   ]
  },
  {
   "cell_type": "markdown",
   "metadata": {},
   "source": [
    "#### All service aspects have Positive Review"
   ]
  },
  {
   "cell_type": "markdown",
   "metadata": {},
   "source": [
    "Airbnb have various aspects of customer experience such as check-in experience, room cleanliness,  location, communication, and also value.\n",
    "\n",
    "In the chart, all aspects also have positive rating business should maintain these effort to keep customers coming in\n",
    "\n",
    "There's still improvement to be made from the bad ratings\n",
    "We'll take a look at these bad reviews later and what kind of unpleasant experience they had during the stay"
   ]
  },
  {
   "cell_type": "code",
   "execution_count": 156,
   "metadata": {},
   "outputs": [
    {
     "name": "stderr",
     "output_type": "stream",
     "text": [
      "/Users/yogisharosarumaha/anaconda3/lib/python3.7/site-packages/numpy/lib/histograms.py:839: RuntimeWarning: invalid value encountered in greater_equal\n",
      "  keep = (tmp_a >= first_edge)\n",
      "/Users/yogisharosarumaha/anaconda3/lib/python3.7/site-packages/numpy/lib/histograms.py:840: RuntimeWarning: invalid value encountered in less_equal\n",
      "  keep &= (tmp_a <= last_edge)\n"
     ]
    },
    {
     "data": {
      "image/png": "[encoded data removed]",
      "text/plain": [
       "<Figure size 432x288 with 6 Axes>"
      ]
     },
     "metadata": {
      "needs_background": "light"
     },
     "output_type": "display_data"
    }
   ],
   "source": [
    "import matplotlib.pyplot as plt\n",
    "\n",
    "fig, ax = plt.subplots(2, 3)\n",
    "fig.tight_layout()\n",
    "\n",
    "ax[0, 0].hist(concat_list_df[\"review_scores_value\"]) #row=0, col=0\n",
    "ax[0, 0].set_title('Value')\n",
    "ax[1, 0].hist(concat_list_df[\"review_scores_checkin\"]) #row=1, col=0\n",
    "ax[1, 0].set_title('Check In')\n",
    "ax[0, 1].hist(concat_list_df[\"review_scores_cleanliness\"]) #row=0, col=1\n",
    "ax[0, 1].set_title('Cleanliness')\n",
    "ax[1, 1].hist(concat_list_df[\"review_scores_communication\"]) #row=1, col=1\n",
    "ax[1, 1].set_title('Communication')\n",
    "ax[1, 2].hist(concat_list_df[\"review_scores_location\"]) #row=1, col=2\n",
    "ax[1 ,2].set_title('Location')\n",
    "plt.show()"
   ]
  },
  {
   "cell_type": "markdown",
   "metadata": {},
   "source": [
    "### What are customers mostly saying\n"
   ]
  },
  {
   "cell_type": "markdown",
   "metadata": {},
   "source": [
    "We have checked that most customers have a great experience during the stay. \n",
    "\n",
    "In all aspects, the scores was pretty high.\n",
    "\n",
    "It's interesting to also look at the most frequent words from the comments."
   ]
  },
  {
   "cell_type": "markdown",
   "metadata": {},
   "source": [
    "### Word Frequency"
   ]
  },
  {
   "cell_type": "markdown",
   "metadata": {},
   "source": [
    "Some of the comments have missing values and we fill it with blanks.\n",
    "\n",
    "Skipping this part would occur error in the analysis, because the customer did not leave any review"
   ]
  },
  {
   "cell_type": "code",
   "execution_count": 157,
   "metadata": {},
   "outputs": [
    {
     "data": {
      "text/plain": [
       "339"
      ]
     },
     "execution_count": 157,
     "metadata": {},
     "output_type": "execute_result"
    }
   ],
   "source": [
    "#count missing values\n",
    "concat_review_df['comments'].isnull().sum()"
   ]
  },
  {
   "cell_type": "markdown",
   "metadata": {},
   "source": [
    "Let's lowercase the texts to avoid words that have similar intention.\n",
    "\n",
    "Then, split each word to count their frequency"
   ]
  },
  {
   "cell_type": "code",
   "execution_count": 158,
   "metadata": {},
   "outputs": [],
   "source": [
    "import itertools\n",
    "import collections\n",
    "\n",
    "def convert(lst): \n",
    "    return ([i for item in lst for i in item.lower().split()]) \n",
    "\n",
    "all_words_review = convert(concat_review_df['comments'].fillna(\"\")) #Fill in missing reviews with blank\n",
    "count_word = collections.Counter(all_words_review) #Count word frequency"
   ]
  },
  {
   "cell_type": "code",
   "execution_count": 159,
   "metadata": {},
   "outputs": [
    {
     "data": {
      "text/html": [
       "<div>\n",
       "<style scoped>\n",
       "    .dataframe tbody tr th:only-of-type {\n",
       "        vertical-align: middle;\n",
       "    }\n",
       "\n",
       "    .dataframe tbody tr th {\n",
       "        vertical-align: top;\n",
       "    }\n",
       "\n",
       "    .dataframe thead th {\n",
       "        text-align: right;\n",
       "    }\n",
       "</style>\n",
       "<table border=\"1\" class=\"dataframe\">\n",
       "  <thead>\n",
       "    <tr style=\"text-align: right;\">\n",
       "      <th></th>\n",
       "      <th>words</th>\n",
       "      <th>count</th>\n",
       "    </tr>\n",
       "  </thead>\n",
       "  <tbody>\n",
       "    <tr>\n",
       "      <th>0</th>\n",
       "      <td>the</td>\n",
       "      <td>1500547</td>\n",
       "    </tr>\n",
       "    <tr>\n",
       "      <th>1</th>\n",
       "      <td>and</td>\n",
       "      <td>1387407</td>\n",
       "    </tr>\n",
       "    <tr>\n",
       "      <th>2</th>\n",
       "      <td>a</td>\n",
       "      <td>915942</td>\n",
       "    </tr>\n",
       "    <tr>\n",
       "      <th>3</th>\n",
       "      <td>to</td>\n",
       "      <td>859042</td>\n",
       "    </tr>\n",
       "    <tr>\n",
       "      <th>4</th>\n",
       "      <td>was</td>\n",
       "      <td>694110</td>\n",
       "    </tr>\n",
       "  </tbody>\n",
       "</table>\n",
       "</div>"
      ],
      "text/plain": [
       "  words    count\n",
       "0   the  1500547\n",
       "1   and  1387407\n",
       "2     a   915942\n",
       "3    to   859042\n",
       "4   was   694110"
      ]
     },
     "execution_count": 159,
     "metadata": {},
     "output_type": "execute_result"
    }
   ],
   "source": [
    "clean_word_count = pd.DataFrame(count_word.most_common(5),\n",
    "                             columns=['words', 'count'])\n",
    "\n",
    "clean_word_count.head()"
   ]
  },
  {
   "cell_type": "markdown",
   "metadata": {},
   "source": [
    "The word frequency runs well, but we cannot understand what these words mean.\n",
    "\n",
    "We wouldn't want these words showed up and we can remove them with `nltk` library"
   ]
  },
  {
   "cell_type": "markdown",
   "metadata": {},
   "source": [
    "# Removing Stopwords"
   ]
  },
  {
   "cell_type": "markdown",
   "metadata": {},
   "source": [
    "Stopwords are common in any language.\n",
    "\n",
    "But we should remove them when analyzing text data, as this doesn't add much value for our analysis"
   ]
  },
  {
   "cell_type": "code",
   "execution_count": 160,
   "metadata": {},
   "outputs": [],
   "source": [
    "import nltk\n",
    "from nltk.corpus import stopwords"
   ]
  },
  {
   "cell_type": "code",
   "execution_count": 161,
   "metadata": {},
   "outputs": [
    {
     "data": {
      "text/plain": [
       "[\"isn't\",\n",
       " 'als',\n",
       " 'kon',\n",
       " 'kunnen',\n",
       " 'andere',\n",
       " 'it',\n",
       " 'was',\n",
       " \"hasn't\",\n",
       " \"haven't\",\n",
       " 'doch']"
      ]
     },
     "execution_count": 161,
     "metadata": {},
     "output_type": "execute_result"
    }
   ],
   "source": [
    "stop_words = set(stopwords.words(['dutch','english']))\n",
    "\n",
    "# View a few words from the set\n",
    "list(stop_words)[0:10]"
   ]
  },
  {
   "cell_type": "markdown",
   "metadata": {},
   "source": [
    "Here's some examples of english and dutch stopwords and we'll remove them "
   ]
  },
  {
   "cell_type": "code",
   "execution_count": 162,
   "metadata": {},
   "outputs": [],
   "source": [
    "words_review_cleaned = [word for word in all_words_review if word not in stop_words]\n",
    "words_review_count = collections.Counter(words_review_cleaned)\n",
    "\n",
    "word_review_count_df = pd.DataFrame(words_review_count.most_common(15),\n",
    "                             columns=['words', 'count'])"
   ]
  },
  {
   "cell_type": "code",
   "execution_count": 163,
   "metadata": {},
   "outputs": [
    {
     "data": {
      "image/png": "[encoded data removed]",
      "text/plain": [
       "<Figure size 576x576 with 1 Axes>"
      ]
     },
     "metadata": {
      "needs_background": "light"
     },
     "output_type": "display_data"
    }
   ],
   "source": [
    "fig, ax = plt.subplots(figsize=(8, 8))\n",
    "\n",
    "# Plot horizontal bar graph\n",
    "word_review_count_df.sort_values(by='count').plot.barh(x='words',\n",
    "                      y='count',\n",
    "                      ax=ax,\n",
    "                      color=\"purple\")\n",
    "\n",
    "ax.set_title(\"Most Frequent Words (All Review)\")\n",
    "\n",
    "plt.show()"
   ]
  },
  {
   "cell_type": "markdown",
   "metadata": {},
   "source": [
    "Notice that the result improved by producing more meaningful words\n",
    "\n",
    "As the rating suggests, most review expresses positive service.\n",
    "\n",
    "Some of the aspects was mentionted, such as  _\"Great\"_  , _\"Location\"_ , _\"Recommend\"_ , _\"Clean\"_ , _\"Close\"_\n"
   ]
  },
  {
   "cell_type": "markdown",
   "metadata": {},
   "source": [
    "# Sentiment Analysis to detect good/bad Reviews"
   ]
  },
  {
   "cell_type": "markdown",
   "metadata": {
    "collapsed": true
   },
   "source": [
    "Sentiment analysis is the process of identifying people's attitude and emotional states from a language.\n",
    "\n",
    "In the application, it able to classify good/bad reviews.\n",
    "\n",
    "It is a technique uses for natural language processing to interpret and classify emotions.\n",
    "\n",
    "The output would summarize the positive, negative, or neutral sentiment of these reviews.\n",
    "\n",
    "Since sentiment analysis is a [complex subject](http://www.360doc.com/content/16/0426/18/2459_554012119.shtml) , the accuracy may not be perfect.\n",
    "\n",
    "But it's easier for us to find a bad review using this approach when there's a lot of data\n",
    "\n",
    "We will be using `nltk` from python to analyze the data"
   ]
  },
  {
   "cell_type": "code",
   "execution_count": 164,
   "metadata": {},
   "outputs": [
    {
     "name": "stdout",
     "output_type": "stream",
     "text": [
      "Kelly has a great room in a very central location. \r\n",
      "Beautiful building , architecture and a style that we really like. \r\n",
      "We felt guite at home here and wish we had spent more time.\r\n",
      "Went for a walk and found Seattle Center with a major food festival in progress. What a treat.\r\n",
      "Visited the Space Needle and the Chihuly Glass exhibit. Then Pikes Place Market. WOW.  Thanks for a great stay.\n",
      "compound: 0.9872, neg: 0.0, neu: 0.609, pos: 0.391, \n",
      "Very spacious apartment, and in a great neighborhood.  This is the kind of apartment I wish I had!\r\n",
      "\r\n",
      "Didn't really get to meet Kelly until I was on my out, but she was always readily available by phone. \r\n",
      "\r\n",
      "I believe the only \"issue\" (if you want to call it that) was finding a place to park, but I sincerely doubt its easy to park anywhere in a residential area after 5 pm on a Friday\n",
      "compound: 0.8718, neg: 0.043, neu: 0.772, pos: 0.185, \n"
     ]
    }
   ],
   "source": [
    "# Snippet from :\n",
    "# https://www.kaggle.com/residentmario/sentiment-analysis-and-collocation-of-reviews\n",
    "\n",
    "from nltk.sentiment.vader import SentimentIntensityAnalyzer\n",
    "sid = SentimentIntensityAnalyzer()\n",
    "for sentence in concat_review_df['comments'].values[1:3]:\n",
    "    print(sentence)\n",
    "    ss = sid.polarity_scores(sentence)\n",
    "    for k in sorted(ss):\n",
    "        print('{0}: {1}, '.format(k, ss[k]), end='')\n",
    "    print()"
   ]
  },
  {
   "cell_type": "markdown",
   "metadata": {},
   "source": [
    "Let's look at some of the comment example, and how `nltk` determines a review\n",
    "\n",
    "`compound` is the normalized weighted score.\n",
    "\n",
    "The metric is useful when determining a uni-dimensional sentiment over a sentence.\n",
    "\n",
    "A positive or negative sentiment being +1 as the most positive and -1 as the most negative\n",
    "\n",
    "The `pos`, `neu`, and `neg` scores are ratios for proportions of text that fall in each category (the values will add up to 1 if summed) . These metrics are useful if we want a multi-dimensional sentiment over a sentence.\n",
    "\n",
    "\n",
    "More about the [scoring](https://github.com/cjhutto/vaderSentiment)"
   ]
  },
  {
   "cell_type": "code",
   "execution_count": 165,
   "metadata": {},
   "outputs": [],
   "source": [
    "from nltk.corpus import stopwords   # stopwords to detect language\n",
    "from nltk import wordpunct_tokenize # function to split up our words\n",
    "\n",
    "def get_language_likelihood(input_text):\n",
    "    \"\"\"Return a dictionary of languages and their likelihood of being the \n",
    "    natural language of the input text\n",
    "    \"\"\"\n",
    " \n",
    "    input_text = input_text.lower()\n",
    "    input_words = wordpunct_tokenize(input_text)\n",
    " \n",
    "    language_likelihood = {}\n",
    "    total_matches = 0\n",
    "    for language in stopwords._fileids:\n",
    "        language_likelihood[language] = len(set(input_words) &\n",
    "                set(stopwords.words(language)))\n",
    " \n",
    "    return language_likelihood\n",
    " \n",
    "def get_language(input_text):\n",
    "    \"\"\"Return the most likely language of the given text\n",
    "    \"\"\" \n",
    "    likelihoods = get_language_likelihood(input_text)\n",
    "    return sorted(likelihoods, key=likelihoods.get, reverse=True)[0]\n",
    "\n",
    "reviews_f = [r for r in concat_review_df['comments'] if pd.notnull(r) and get_language(r) in ['dutch','english']]\n",
    "\n",
    "pscores = [sid.polarity_scores(comment) for comment in reviews_f]"
   ]
  },
  {
   "cell_type": "markdown",
   "metadata": {},
   "source": [
    "After taking all sentiment scores from the comments,\n",
    "\n",
    "Let's take a look at the distributions"
   ]
  },
  {
   "cell_type": "markdown",
   "metadata": {},
   "source": [
    "##### Compound Scores"
   ]
  },
  {
   "cell_type": "code",
   "execution_count": 177,
   "metadata": {},
   "outputs": [
    {
     "data": {
      "text/plain": [
       "Text(0, 0.5, 'frequency')"
      ]
     },
     "execution_count": 177,
     "metadata": {},
     "output_type": "execute_result"
    },
    {
     "data": {
      "image/png": "[encoded data removed]",
      "text/plain": [
       "<Figure size 432x288 with 1 Axes>"
      ]
     },
     "metadata": {
      "needs_background": "light"
     },
     "output_type": "display_data"
    }
   ],
   "source": [
    "#Histogram plot neutral\n",
    "pd.Series([score['compound'] for score in pscores]).plot(kind='hist')\n",
    "\n",
    "plt.title('Compound Scores')\n",
    "plt.xlabel('Scores')\n",
    "plt.ylabel('frequency')"
   ]
  },
  {
   "cell_type": "markdown",
   "metadata": {},
   "source": [
    "##### Neutral Scores"
   ]
  },
  {
   "cell_type": "code",
   "execution_count": 166,
   "metadata": {},
   "outputs": [
    {
     "data": {
      "text/plain": [
       "Text(0, 0.5, 'frequency')"
      ]
     },
     "execution_count": 166,
     "metadata": {},
     "output_type": "execute_result"
    },
    {
     "data": {
      "image/png": "[encoded data removed]",
      "text/plain": [
       "<Figure size 432x288 with 1 Axes>"
      ]
     },
     "metadata": {
      "needs_background": "light"
     },
     "output_type": "display_data"
    }
   ],
   "source": [
    "#Histogram plot neutral\n",
    "pd.Series([score['neu'] for score in pscores]).plot(kind='hist')\n",
    "\n",
    "plt.title('Neutral Scores')\n",
    "plt.xlabel('Scores')\n",
    "plt.ylabel('frequency')"
   ]
  },
  {
   "cell_type": "markdown",
   "metadata": {},
   "source": [
    "##### Positive Scores"
   ]
  },
  {
   "cell_type": "code",
   "execution_count": 167,
   "metadata": {},
   "outputs": [
    {
     "data": {
      "text/plain": [
       "Text(0, 0.5, 'frequency')"
      ]
     },
     "execution_count": 167,
     "metadata": {},
     "output_type": "execute_result"
    },
    {
     "data": {
      "image/png": "[encoded data removed]",
      "text/plain": [
       "<Figure size 432x288 with 1 Axes>"
      ]
     },
     "metadata": {
      "needs_background": "light"
     },
     "output_type": "display_data"
    }
   ],
   "source": [
    "#Histogram plot positive\n",
    "pd.Series([score['pos'] for score in pscores]).plot(kind='hist')\n",
    "\n",
    "plt.title('Positive Scores')\n",
    "plt.xlabel('Scores')\n",
    "plt.ylabel('frequency')"
   ]
  },
  {
   "cell_type": "markdown",
   "metadata": {},
   "source": [
    "##### Negative Scores"
   ]
  },
  {
   "cell_type": "markdown",
   "metadata": {},
   "source": [
    "Surprisingly, the negative scores was mostly zero.\n",
    "\n",
    "This implies that indeed the experience was pleasant for most Airbnb stay."
   ]
  },
  {
   "cell_type": "code",
   "execution_count": 168,
   "metadata": {},
   "outputs": [
    {
     "data": {
      "text/plain": [
       "Text(0, 0.5, 'frequency')"
      ]
     },
     "execution_count": 168,
     "metadata": {},
     "output_type": "execute_result"
    },
    {
     "data": {
      "image/png": "[encoded data removed]",
      "text/plain": [
       "<Figure size 432x288 with 1 Axes>"
      ]
     },
     "metadata": {
      "needs_background": "light"
     },
     "output_type": "display_data"
    }
   ],
   "source": [
    "#Histogram plot negative\n",
    "pd.Series([score['neg'] for score in pscores]).plot(kind='hist', bins=100)\n",
    "\n",
    "plt.title('Negative Scores')\n",
    "plt.xlabel('Scores')\n",
    "plt.ylabel('frequency')"
   ]
  },
  {
   "cell_type": "code",
   "execution_count": 169,
   "metadata": {},
   "outputs": [],
   "source": [
    "#Create dataframe for sentiment analysis\n",
    "scored_reviews = pd.DataFrame()\n",
    "scored_reviews['review'] = [r for r in reviews_f if get_language(r) in ['dutch','english']]\n",
    "scored_reviews['compound'] = [score['compound'] for score in pscores]\n",
    "scored_reviews['negativity'] = [score['neg'] for score in pscores]\n",
    "scored_reviews['neutrality'] = [score['neu'] for score in pscores]\n",
    "scored_reviews['positivity'] = [score['pos'] for score in pscores]"
   ]
  },
  {
   "cell_type": "markdown",
   "metadata": {},
   "source": [
    "#### Inspecting Bad review"
   ]
  },
  {
   "cell_type": "code",
   "execution_count": 214,
   "metadata": {},
   "outputs": [
    {
     "data": {
      "text/plain": [
       "0.25230734779998415"
      ]
     },
     "execution_count": 214,
     "metadata": {},
     "output_type": "execute_result"
    }
   ],
   "source": [
    "130700/len(scored_reviews)"
   ]
  },
  {
   "cell_type": "code",
   "execution_count": 211,
   "metadata": {},
   "outputs": [
    {
     "data": {
      "text/html": [
       "<div>\n",
       "<style scoped>\n",
       "    .dataframe tbody tr th:only-of-type {\n",
       "        vertical-align: middle;\n",
       "    }\n",
       "\n",
       "    .dataframe tbody tr th {\n",
       "        vertical-align: top;\n",
       "    }\n",
       "\n",
       "    .dataframe thead th {\n",
       "        text-align: right;\n",
       "    }\n",
       "</style>\n",
       "<table border=\"1\" class=\"dataframe\">\n",
       "  <thead>\n",
       "    <tr style=\"text-align: right;\">\n",
       "      <th></th>\n",
       "      <th>review</th>\n",
       "      <th>compound</th>\n",
       "      <th>negativity</th>\n",
       "      <th>neutrality</th>\n",
       "      <th>positivity</th>\n",
       "    </tr>\n",
       "  </thead>\n",
       "  <tbody>\n",
       "    <tr>\n",
       "      <th>0</th>\n",
       "      <td>Cute and cozy place. Perfect location to every...</td>\n",
       "      <td>0.7901</td>\n",
       "      <td>0.000</td>\n",
       "      <td>0.462</td>\n",
       "      <td>0.538</td>\n",
       "    </tr>\n",
       "    <tr>\n",
       "      <th>1</th>\n",
       "      <td>Kelly has a great room in a very central locat...</td>\n",
       "      <td>0.9872</td>\n",
       "      <td>0.000</td>\n",
       "      <td>0.609</td>\n",
       "      <td>0.391</td>\n",
       "    </tr>\n",
       "    <tr>\n",
       "      <th>2</th>\n",
       "      <td>Very spacious apartment, and in a great neighb...</td>\n",
       "      <td>0.8718</td>\n",
       "      <td>0.043</td>\n",
       "      <td>0.772</td>\n",
       "      <td>0.185</td>\n",
       "    </tr>\n",
       "    <tr>\n",
       "      <th>3</th>\n",
       "      <td>Close to Seattle Center and all it has to offe...</td>\n",
       "      <td>0.8313</td>\n",
       "      <td>0.035</td>\n",
       "      <td>0.765</td>\n",
       "      <td>0.200</td>\n",
       "    </tr>\n",
       "    <tr>\n",
       "      <th>4</th>\n",
       "      <td>Kelly was a great host and very accommodating ...</td>\n",
       "      <td>0.9783</td>\n",
       "      <td>0.000</td>\n",
       "      <td>0.655</td>\n",
       "      <td>0.345</td>\n",
       "    </tr>\n",
       "    <tr>\n",
       "      <th>...</th>\n",
       "      <td>...</td>\n",
       "      <td>...</td>\n",
       "      <td>...</td>\n",
       "      <td>...</td>\n",
       "      <td>...</td>\n",
       "    </tr>\n",
       "    <tr>\n",
       "      <th>518014</th>\n",
       "      <td>dishwasher that smells of death with all the d...</td>\n",
       "      <td>-0.7783</td>\n",
       "      <td>0.174</td>\n",
       "      <td>0.792</td>\n",
       "      <td>0.034</td>\n",
       "    </tr>\n",
       "    <tr>\n",
       "      <th>518015</th>\n",
       "      <td>A nice location, pretty central and with an ex...</td>\n",
       "      <td>0.8658</td>\n",
       "      <td>0.000</td>\n",
       "      <td>0.382</td>\n",
       "      <td>0.618</td>\n",
       "    </tr>\n",
       "    <tr>\n",
       "      <th>518016</th>\n",
       "      <td>Good stay for some days!</td>\n",
       "      <td>0.4926</td>\n",
       "      <td>0.000</td>\n",
       "      <td>0.556</td>\n",
       "      <td>0.444</td>\n",
       "    </tr>\n",
       "    <tr>\n",
       "      <th>518017</th>\n",
       "      <td>It was very nice</td>\n",
       "      <td>0.4754</td>\n",
       "      <td>0.000</td>\n",
       "      <td>0.492</td>\n",
       "      <td>0.508</td>\n",
       "    </tr>\n",
       "    <tr>\n",
       "      <th>518018</th>\n",
       "      <td>We had an amazing stay. The hotel was perfect ...</td>\n",
       "      <td>0.9521</td>\n",
       "      <td>0.000</td>\n",
       "      <td>0.499</td>\n",
       "      <td>0.501</td>\n",
       "    </tr>\n",
       "  </tbody>\n",
       "</table>\n",
       "<p>500376 rows × 5 columns</p>\n",
       "</div>"
      ],
      "text/plain": [
       "                                                   review  compound  \\\n",
       "0       Cute and cozy place. Perfect location to every...    0.7901   \n",
       "1       Kelly has a great room in a very central locat...    0.9872   \n",
       "2       Very spacious apartment, and in a great neighb...    0.8718   \n",
       "3       Close to Seattle Center and all it has to offe...    0.8313   \n",
       "4       Kelly was a great host and very accommodating ...    0.9783   \n",
       "...                                                   ...       ...   \n",
       "518014  dishwasher that smells of death with all the d...   -0.7783   \n",
       "518015  A nice location, pretty central and with an ex...    0.8658   \n",
       "518016                           Good stay for some days!    0.4926   \n",
       "518017                                   It was very nice    0.4754   \n",
       "518018  We had an amazing stay. The hotel was perfect ...    0.9521   \n",
       "\n",
       "        negativity  neutrality  positivity  \n",
       "0            0.000       0.462       0.538  \n",
       "1            0.000       0.609       0.391  \n",
       "2            0.043       0.772       0.185  \n",
       "3            0.035       0.765       0.200  \n",
       "4            0.000       0.655       0.345  \n",
       "...            ...         ...         ...  \n",
       "518014       0.174       0.792       0.034  \n",
       "518015       0.000       0.382       0.618  \n",
       "518016       0.000       0.556       0.444  \n",
       "518017       0.000       0.492       0.508  \n",
       "518018       0.000       0.499       0.501  \n",
       "\n",
       "[500376 rows x 5 columns]"
      ]
     },
     "execution_count": 211,
     "metadata": {},
     "output_type": "execute_result"
    }
   ],
   "source": [
    "scored_reviews.query('positivity > 0')"
   ]
  },
  {
   "cell_type": "markdown",
   "metadata": {},
   "source": [
    "n =500376; (96,5% users)\n",
    "\n",
    "Not all review is positive, some have a negative compound that expresses an unpleasant stay."
   ]
  },
  {
   "cell_type": "code",
   "execution_count": 213,
   "metadata": {},
   "outputs": [
    {
     "data": {
      "text/html": [
       "<div>\n",
       "<style scoped>\n",
       "    .dataframe tbody tr th:only-of-type {\n",
       "        vertical-align: middle;\n",
       "    }\n",
       "\n",
       "    .dataframe tbody tr th {\n",
       "        vertical-align: top;\n",
       "    }\n",
       "\n",
       "    .dataframe thead th {\n",
       "        text-align: right;\n",
       "    }\n",
       "</style>\n",
       "<table border=\"1\" class=\"dataframe\">\n",
       "  <thead>\n",
       "    <tr style=\"text-align: right;\">\n",
       "      <th></th>\n",
       "      <th>review</th>\n",
       "      <th>compound</th>\n",
       "      <th>negativity</th>\n",
       "      <th>neutrality</th>\n",
       "      <th>positivity</th>\n",
       "    </tr>\n",
       "  </thead>\n",
       "  <tbody>\n",
       "    <tr>\n",
       "      <th>2</th>\n",
       "      <td>Very spacious apartment, and in a great neighb...</td>\n",
       "      <td>0.8718</td>\n",
       "      <td>0.043</td>\n",
       "      <td>0.772</td>\n",
       "      <td>0.185</td>\n",
       "    </tr>\n",
       "    <tr>\n",
       "      <th>3</th>\n",
       "      <td>Close to Seattle Center and all it has to offe...</td>\n",
       "      <td>0.8313</td>\n",
       "      <td>0.035</td>\n",
       "      <td>0.765</td>\n",
       "      <td>0.200</td>\n",
       "    </tr>\n",
       "    <tr>\n",
       "      <th>7</th>\n",
       "      <td>hola all bnb erz - Just left Seattle where I h...</td>\n",
       "      <td>0.9671</td>\n",
       "      <td>0.028</td>\n",
       "      <td>0.670</td>\n",
       "      <td>0.302</td>\n",
       "    </tr>\n",
       "    <tr>\n",
       "      <th>8</th>\n",
       "      <td>Kelly's place is conveniently located on a qui...</td>\n",
       "      <td>0.5562</td>\n",
       "      <td>0.104</td>\n",
       "      <td>0.758</td>\n",
       "      <td>0.138</td>\n",
       "    </tr>\n",
       "    <tr>\n",
       "      <th>13</th>\n",
       "      <td>Staying at Kelly's was easy. The location was ...</td>\n",
       "      <td>0.7819</td>\n",
       "      <td>0.143</td>\n",
       "      <td>0.596</td>\n",
       "      <td>0.260</td>\n",
       "    </tr>\n",
       "    <tr>\n",
       "      <th>...</th>\n",
       "      <td>...</td>\n",
       "      <td>...</td>\n",
       "      <td>...</td>\n",
       "      <td>...</td>\n",
       "      <td>...</td>\n",
       "    </tr>\n",
       "    <tr>\n",
       "      <th>517983</th>\n",
       "      <td>Unfortunately, due to illness and covid 19, we...</td>\n",
       "      <td>0.9109</td>\n",
       "      <td>0.101</td>\n",
       "      <td>0.629</td>\n",
       "      <td>0.270</td>\n",
       "    </tr>\n",
       "    <tr>\n",
       "      <th>517987</th>\n",
       "      <td>it is a nice place to live, and the location i...</td>\n",
       "      <td>0.9326</td>\n",
       "      <td>0.033</td>\n",
       "      <td>0.723</td>\n",
       "      <td>0.244</td>\n",
       "    </tr>\n",
       "    <tr>\n",
       "      <th>517989</th>\n",
       "      <td>Very horrible</td>\n",
       "      <td>-0.5849</td>\n",
       "      <td>0.791</td>\n",
       "      <td>0.209</td>\n",
       "      <td>0.000</td>\n",
       "    </tr>\n",
       "    <tr>\n",
       "      <th>517996</th>\n",
       "      <td>Not an accurate description. The photos didn’t...</td>\n",
       "      <td>-0.9389</td>\n",
       "      <td>0.216</td>\n",
       "      <td>0.725</td>\n",
       "      <td>0.058</td>\n",
       "    </tr>\n",
       "    <tr>\n",
       "      <th>518014</th>\n",
       "      <td>dishwasher that smells of death with all the d...</td>\n",
       "      <td>-0.7783</td>\n",
       "      <td>0.174</td>\n",
       "      <td>0.792</td>\n",
       "      <td>0.034</td>\n",
       "    </tr>\n",
       "  </tbody>\n",
       "</table>\n",
       "<p>130700 rows × 5 columns</p>\n",
       "</div>"
      ],
      "text/plain": [
       "                                                   review  compound  \\\n",
       "2       Very spacious apartment, and in a great neighb...    0.8718   \n",
       "3       Close to Seattle Center and all it has to offe...    0.8313   \n",
       "7       hola all bnb erz - Just left Seattle where I h...    0.9671   \n",
       "8       Kelly's place is conveniently located on a qui...    0.5562   \n",
       "13      Staying at Kelly's was easy. The location was ...    0.7819   \n",
       "...                                                   ...       ...   \n",
       "517983  Unfortunately, due to illness and covid 19, we...    0.9109   \n",
       "517987  it is a nice place to live, and the location i...    0.9326   \n",
       "517989                                      Very horrible   -0.5849   \n",
       "517996  Not an accurate description. The photos didn’t...   -0.9389   \n",
       "518014  dishwasher that smells of death with all the d...   -0.7783   \n",
       "\n",
       "        negativity  neutrality  positivity  \n",
       "2            0.043       0.772       0.185  \n",
       "3            0.035       0.765       0.200  \n",
       "7            0.028       0.670       0.302  \n",
       "8            0.104       0.758       0.138  \n",
       "13           0.143       0.596       0.260  \n",
       "...            ...         ...         ...  \n",
       "517983       0.101       0.629       0.270  \n",
       "517987       0.033       0.723       0.244  \n",
       "517989       0.791       0.209       0.000  \n",
       "517996       0.216       0.725       0.058  \n",
       "518014       0.174       0.792       0.034  \n",
       "\n",
       "[130700 rows x 5 columns]"
      ]
     },
     "execution_count": 213,
     "metadata": {},
     "output_type": "execute_result"
    }
   ],
   "source": [
    "scored_reviews.query('negativity > 0')"
   ]
  },
  {
   "cell_type": "markdown",
   "metadata": {},
   "source": [
    "n =130700; (25% users)\n",
    "\n",
    "Also, some of the negative scores were not bad at all. Row 517987 has a high compound score, and the review seems positive."
   ]
  },
  {
   "cell_type": "code",
   "execution_count": 180,
   "metadata": {},
   "outputs": [
    {
     "data": {
      "text/html": [
       "<div>\n",
       "<style scoped>\n",
       "    .dataframe tbody tr th:only-of-type {\n",
       "        vertical-align: middle;\n",
       "    }\n",
       "\n",
       "    .dataframe tbody tr th {\n",
       "        vertical-align: top;\n",
       "    }\n",
       "\n",
       "    .dataframe thead th {\n",
       "        text-align: right;\n",
       "    }\n",
       "</style>\n",
       "<table border=\"1\" class=\"dataframe\">\n",
       "  <thead>\n",
       "    <tr style=\"text-align: right;\">\n",
       "      <th></th>\n",
       "      <th>review</th>\n",
       "      <th>compound</th>\n",
       "      <th>negativity</th>\n",
       "      <th>neutrality</th>\n",
       "      <th>positivity</th>\n",
       "    </tr>\n",
       "  </thead>\n",
       "  <tbody>\n",
       "    <tr>\n",
       "      <th>187</th>\n",
       "      <td>Cozy and very private space! Close to beach, s...</td>\n",
       "      <td>-0.3816</td>\n",
       "      <td>0.057</td>\n",
       "      <td>0.943</td>\n",
       "      <td>0.000</td>\n",
       "    </tr>\n",
       "    <tr>\n",
       "      <th>713</th>\n",
       "      <td>The apartment was as advertised, 4 blocks to C...</td>\n",
       "      <td>-0.1511</td>\n",
       "      <td>0.109</td>\n",
       "      <td>0.821</td>\n",
       "      <td>0.070</td>\n",
       "    </tr>\n",
       "    <tr>\n",
       "      <th>1243</th>\n",
       "      <td>The host and his roommates were very prompt in...</td>\n",
       "      <td>-0.4321</td>\n",
       "      <td>0.109</td>\n",
       "      <td>0.792</td>\n",
       "      <td>0.100</td>\n",
       "    </tr>\n",
       "    <tr>\n",
       "      <th>1302</th>\n",
       "      <td>Leah was very responsive and attentive. When I...</td>\n",
       "      <td>-0.8725</td>\n",
       "      <td>0.087</td>\n",
       "      <td>0.852</td>\n",
       "      <td>0.061</td>\n",
       "    </tr>\n",
       "    <tr>\n",
       "      <th>2099</th>\n",
       "      <td>At first time, Pj was nice and answer quickly ...</td>\n",
       "      <td>-0.8537</td>\n",
       "      <td>0.160</td>\n",
       "      <td>0.747</td>\n",
       "      <td>0.093</td>\n",
       "    </tr>\n",
       "    <tr>\n",
       "      <th>...</th>\n",
       "      <td>...</td>\n",
       "      <td>...</td>\n",
       "      <td>...</td>\n",
       "      <td>...</td>\n",
       "      <td>...</td>\n",
       "    </tr>\n",
       "    <tr>\n",
       "      <th>517953</th>\n",
       "      <td>If you don't need to count every cent, book so...</td>\n",
       "      <td>0.1883</td>\n",
       "      <td>0.080</td>\n",
       "      <td>0.852</td>\n",
       "      <td>0.068</td>\n",
       "    </tr>\n",
       "    <tr>\n",
       "      <th>517968</th>\n",
       "      <td>Geweldige locatie, gezellig, mooi ingericht. W...</td>\n",
       "      <td>-0.3612</td>\n",
       "      <td>0.070</td>\n",
       "      <td>0.930</td>\n",
       "      <td>0.000</td>\n",
       "    </tr>\n",
       "    <tr>\n",
       "      <th>517989</th>\n",
       "      <td>Very horrible</td>\n",
       "      <td>-0.5849</td>\n",
       "      <td>0.791</td>\n",
       "      <td>0.209</td>\n",
       "      <td>0.000</td>\n",
       "    </tr>\n",
       "    <tr>\n",
       "      <th>517996</th>\n",
       "      <td>Not an accurate description. The photos didn’t...</td>\n",
       "      <td>-0.9389</td>\n",
       "      <td>0.216</td>\n",
       "      <td>0.725</td>\n",
       "      <td>0.058</td>\n",
       "    </tr>\n",
       "    <tr>\n",
       "      <th>518014</th>\n",
       "      <td>dishwasher that smells of death with all the d...</td>\n",
       "      <td>-0.7783</td>\n",
       "      <td>0.174</td>\n",
       "      <td>0.792</td>\n",
       "      <td>0.034</td>\n",
       "    </tr>\n",
       "  </tbody>\n",
       "</table>\n",
       "<p>6276 rows × 5 columns</p>\n",
       "</div>"
      ],
      "text/plain": [
       "                                                   review  compound  \\\n",
       "187     Cozy and very private space! Close to beach, s...   -0.3816   \n",
       "713     The apartment was as advertised, 4 blocks to C...   -0.1511   \n",
       "1243    The host and his roommates were very prompt in...   -0.4321   \n",
       "1302    Leah was very responsive and attentive. When I...   -0.8725   \n",
       "2099    At first time, Pj was nice and answer quickly ...   -0.8537   \n",
       "...                                                   ...       ...   \n",
       "517953  If you don't need to count every cent, book so...    0.1883   \n",
       "517968  Geweldige locatie, gezellig, mooi ingericht. W...   -0.3612   \n",
       "517989                                      Very horrible   -0.5849   \n",
       "517996  Not an accurate description. The photos didn’t...   -0.9389   \n",
       "518014  dishwasher that smells of death with all the d...   -0.7783   \n",
       "\n",
       "        negativity  neutrality  positivity  \n",
       "187          0.057       0.943       0.000  \n",
       "713          0.109       0.821       0.070  \n",
       "1243         0.109       0.792       0.100  \n",
       "1302         0.087       0.852       0.061  \n",
       "2099         0.160       0.747       0.093  \n",
       "...            ...         ...         ...  \n",
       "517953       0.080       0.852       0.068  \n",
       "517968       0.070       0.930       0.000  \n",
       "517989       0.791       0.209       0.000  \n",
       "517996       0.216       0.725       0.058  \n",
       "518014       0.174       0.792       0.034  \n",
       "\n",
       "[6276 rows x 5 columns]"
      ]
     },
     "execution_count": 180,
     "metadata": {},
     "output_type": "execute_result"
    }
   ],
   "source": [
    "scored_reviews.query('negativity > positivity')"
   ]
  },
  {
   "cell_type": "code",
   "execution_count": 182,
   "metadata": {},
   "outputs": [
    {
     "data": {
      "text/plain": [
       "\"If you don't need to count every cent, book something different. The place is well located and not so expensive, yes. But it was very uncozy (unlike the pictures), not very clean and we needed to communicate with three different people for check in. The blanket was only for one person but the cover was for two, so one of us had no blanket. Also, what you might need to know, the staircase is super steep. Only possible with light luggage and if you're steady on your feet. All in all not recommended.\""
      ]
     },
     "execution_count": 182,
     "metadata": {},
     "output_type": "execute_result"
    }
   ],
   "source": [
    "scored_reviews.iloc[517953]['review']"
   ]
  },
  {
   "cell_type": "markdown",
   "metadata": {},
   "source": [
    "Compund: 0.1883, Pos: 0.061, Neu: 0.852 , Neg: 0.08 (n=6276, 1,2%  of all)\n",
    "\n",
    "If we closely read the review, It strongly influences readers to not recommend the place. But, sentiment scores tend to be neutral with a slight difference between positive & negative. \n",
    "\n",
    "The compound score has a better explanation as the score is closer to zero.\n",
    "\n",
    "Notice that only a small fraction of reviews affected (1,2% of all)."
   ]
  },
  {
   "cell_type": "code",
   "execution_count": 208,
   "metadata": {},
   "outputs": [
    {
     "data": {
      "text/html": [
       "<div>\n",
       "<style scoped>\n",
       "    .dataframe tbody tr th:only-of-type {\n",
       "        vertical-align: middle;\n",
       "    }\n",
       "\n",
       "    .dataframe tbody tr th {\n",
       "        vertical-align: top;\n",
       "    }\n",
       "\n",
       "    .dataframe thead th {\n",
       "        text-align: right;\n",
       "    }\n",
       "</style>\n",
       "<table border=\"1\" class=\"dataframe\">\n",
       "  <thead>\n",
       "    <tr style=\"text-align: right;\">\n",
       "      <th></th>\n",
       "      <th>review</th>\n",
       "      <th>compound</th>\n",
       "      <th>negativity</th>\n",
       "      <th>neutrality</th>\n",
       "      <th>positivity</th>\n",
       "    </tr>\n",
       "  </thead>\n",
       "  <tbody>\n",
       "    <tr>\n",
       "      <th>2525</th>\n",
       "      <td>This was my first experience and it started ou...</td>\n",
       "      <td>0.2418</td>\n",
       "      <td>0.108</td>\n",
       "      <td>0.792</td>\n",
       "      <td>0.100</td>\n",
       "    </tr>\n",
       "    <tr>\n",
       "      <th>12204</th>\n",
       "      <td>We had a lovely time in Seattle! Jen was very ...</td>\n",
       "      <td>0.5242</td>\n",
       "      <td>0.091</td>\n",
       "      <td>0.827</td>\n",
       "      <td>0.083</td>\n",
       "    </tr>\n",
       "    <tr>\n",
       "      <th>13026</th>\n",
       "      <td>Great host &amp; location! Stayed at the cottage t...</td>\n",
       "      <td>0.2462</td>\n",
       "      <td>0.259</td>\n",
       "      <td>0.540</td>\n",
       "      <td>0.201</td>\n",
       "    </tr>\n",
       "    <tr>\n",
       "      <th>26794</th>\n",
       "      <td>The place was great!  The neighborhood was qui...</td>\n",
       "      <td>0.2244</td>\n",
       "      <td>0.229</td>\n",
       "      <td>0.574</td>\n",
       "      <td>0.196</td>\n",
       "    </tr>\n",
       "    <tr>\n",
       "      <th>29651</th>\n",
       "      <td>Although we didn't get the opportunity to meet...</td>\n",
       "      <td>0.2151</td>\n",
       "      <td>0.112</td>\n",
       "      <td>0.783</td>\n",
       "      <td>0.105</td>\n",
       "    </tr>\n",
       "    <tr>\n",
       "      <th>...</th>\n",
       "      <td>...</td>\n",
       "      <td>...</td>\n",
       "      <td>...</td>\n",
       "      <td>...</td>\n",
       "      <td>...</td>\n",
       "    </tr>\n",
       "    <tr>\n",
       "      <th>474764</th>\n",
       "      <td>Staying on the Rebel Dolphin is not for the fa...</td>\n",
       "      <td>0.2808</td>\n",
       "      <td>0.068</td>\n",
       "      <td>0.867</td>\n",
       "      <td>0.065</td>\n",
       "    </tr>\n",
       "    <tr>\n",
       "      <th>488995</th>\n",
       "      <td>Its a beautiful apartment in a quiet  location...</td>\n",
       "      <td>0.2444</td>\n",
       "      <td>0.094</td>\n",
       "      <td>0.833</td>\n",
       "      <td>0.073</td>\n",
       "    </tr>\n",
       "    <tr>\n",
       "      <th>500214</th>\n",
       "      <td>Great Place To Stay Overall... No Complaints!!!</td>\n",
       "      <td>0.2677</td>\n",
       "      <td>0.416</td>\n",
       "      <td>0.288</td>\n",
       "      <td>0.295</td>\n",
       "    </tr>\n",
       "    <tr>\n",
       "      <th>502755</th>\n",
       "      <td>Great location in walking distance to most pla...</td>\n",
       "      <td>0.3786</td>\n",
       "      <td>0.113</td>\n",
       "      <td>0.782</td>\n",
       "      <td>0.105</td>\n",
       "    </tr>\n",
       "    <tr>\n",
       "      <th>514177</th>\n",
       "      <td>This place is very suitable for living. You ca...</td>\n",
       "      <td>0.2665</td>\n",
       "      <td>0.067</td>\n",
       "      <td>0.874</td>\n",
       "      <td>0.059</td>\n",
       "    </tr>\n",
       "  </tbody>\n",
       "</table>\n",
       "<p>135 rows × 5 columns</p>\n",
       "</div>"
      ],
      "text/plain": [
       "                                                   review  compound  \\\n",
       "2525    This was my first experience and it started ou...    0.2418   \n",
       "12204   We had a lovely time in Seattle! Jen was very ...    0.5242   \n",
       "13026   Great host & location! Stayed at the cottage t...    0.2462   \n",
       "26794   The place was great!  The neighborhood was qui...    0.2244   \n",
       "29651   Although we didn't get the opportunity to meet...    0.2151   \n",
       "...                                                   ...       ...   \n",
       "474764  Staying on the Rebel Dolphin is not for the fa...    0.2808   \n",
       "488995  Its a beautiful apartment in a quiet  location...    0.2444   \n",
       "500214   Great Place To Stay Overall... No Complaints!!!     0.2677   \n",
       "502755  Great location in walking distance to most pla...    0.3786   \n",
       "514177  This place is very suitable for living. You ca...    0.2665   \n",
       "\n",
       "        negativity  neutrality  positivity  \n",
       "2525         0.108       0.792       0.100  \n",
       "12204        0.091       0.827       0.083  \n",
       "13026        0.259       0.540       0.201  \n",
       "26794        0.229       0.574       0.196  \n",
       "29651        0.112       0.783       0.105  \n",
       "...            ...         ...         ...  \n",
       "474764       0.068       0.867       0.065  \n",
       "488995       0.094       0.833       0.073  \n",
       "500214       0.416       0.288       0.295  \n",
       "502755       0.113       0.782       0.105  \n",
       "514177       0.067       0.874       0.059  \n",
       "\n",
       "[135 rows x 5 columns]"
      ]
     },
     "execution_count": 208,
     "metadata": {},
     "output_type": "execute_result"
    }
   ],
   "source": [
    "scored_reviews.query('negativity > positivity').query('compound > 0.2')"
   ]
  },
  {
   "cell_type": "code",
   "execution_count": 209,
   "metadata": {},
   "outputs": [
    {
     "data": {
      "text/plain": [
       "'Great Place To Stay Overall... No Complaints!!! '"
      ]
     },
     "execution_count": 209,
     "metadata": {},
     "output_type": "execute_result"
    }
   ],
   "source": [
    "scored_reviews.iloc[500214]['review']"
   ]
  },
  {
   "cell_type": "markdown",
   "metadata": {},
   "source": [
    "Compound: 0.2667, Pos: 0.416, Neu: 0.288 , Neg: 0.416 (n=135, 0,02% of all)\n",
    "\n",
    "It's not accurate to score this review as negative, as there is no bad comment about it."
   ]
  },
  {
   "cell_type": "markdown",
   "metadata": {},
   "source": [
    "Started out as a positive review, the follow up sentence was mostly negative.\n",
    "\n",
    "This was accurate, being positivity (0.083) is lower than negativity (0.209) metric."
   ]
  },
  {
   "cell_type": "code",
   "execution_count": 218,
   "metadata": {},
   "outputs": [
    {
     "data": {
      "text/plain": [
       "review        Personeel is zeer gastvrij.\\nLeuke kamer.\\nGoe...\n",
       "compound                                                -0.5994\n",
       "negativity                                                0.145\n",
       "neutrality                                                0.855\n",
       "positivity                                                    0\n",
       "Name: 517895, dtype: object"
      ]
     },
     "execution_count": 218,
     "metadata": {},
     "output_type": "execute_result"
    }
   ],
   "source": [
    "scored_reviews.iloc[517895]"
   ]
  },
  {
   "cell_type": "code",
   "execution_count": 172,
   "metadata": {},
   "outputs": [
    {
     "data": {
      "text/plain": [
       "'Personeel is zeer gastvrij.\\nLeuke kamer.\\nGoed gelegen, je kan overal snel geraken met de tramhalte die nabij is.\\nMusea is te voet bereikbaar.'"
      ]
     },
     "execution_count": 172,
     "metadata": {},
     "output_type": "execute_result"
    }
   ],
   "source": [
    "scored_reviews.iloc[517895]['review']"
   ]
  },
  {
   "cell_type": "markdown",
   "metadata": {},
   "source": [
    "The compound metric itself may not all accurate. It detects the sentence as bad\n",
    "\n",
    "if we translate this,it basically saying that the location of the stay was good with helpful staff.\n",
    "\n",
    "Thus , we should also look into negativity and neutrality to justify bad review\n",
    "\n"
   ]
  },
  {
   "cell_type": "code",
   "execution_count": 173,
   "metadata": {},
   "outputs": [
    {
     "data": {
      "text/html": [
       "<div>\n",
       "<style scoped>\n",
       "    .dataframe tbody tr th:only-of-type {\n",
       "        vertical-align: middle;\n",
       "    }\n",
       "\n",
       "    .dataframe tbody tr th {\n",
       "        vertical-align: top;\n",
       "    }\n",
       "\n",
       "    .dataframe thead th {\n",
       "        text-align: right;\n",
       "    }\n",
       "</style>\n",
       "<table border=\"1\" class=\"dataframe\">\n",
       "  <thead>\n",
       "    <tr style=\"text-align: right;\">\n",
       "      <th></th>\n",
       "      <th>review</th>\n",
       "      <th>compound</th>\n",
       "      <th>negativity</th>\n",
       "      <th>neutrality</th>\n",
       "      <th>positivity</th>\n",
       "    </tr>\n",
       "  </thead>\n",
       "  <tbody>\n",
       "    <tr>\n",
       "      <th>1302</th>\n",
       "      <td>Leah was very responsive and attentive. When I...</td>\n",
       "      <td>-0.8725</td>\n",
       "      <td>0.087</td>\n",
       "      <td>0.852</td>\n",
       "      <td>0.061</td>\n",
       "    </tr>\n",
       "    <tr>\n",
       "      <th>2099</th>\n",
       "      <td>At first time, Pj was nice and answer quickly ...</td>\n",
       "      <td>-0.8537</td>\n",
       "      <td>0.160</td>\n",
       "      <td>0.747</td>\n",
       "      <td>0.093</td>\n",
       "    </tr>\n",
       "    <tr>\n",
       "      <th>2825</th>\n",
       "      <td>Great neighborhood, but the \"patio\" photo was ...</td>\n",
       "      <td>-0.8551</td>\n",
       "      <td>0.209</td>\n",
       "      <td>0.708</td>\n",
       "      <td>0.083</td>\n",
       "    </tr>\n",
       "    <tr>\n",
       "      <th>4789</th>\n",
       "      <td>I was disappointed in the rental.  It had no t...</td>\n",
       "      <td>-0.9306</td>\n",
       "      <td>0.230</td>\n",
       "      <td>0.770</td>\n",
       "      <td>0.000</td>\n",
       "    </tr>\n",
       "    <tr>\n",
       "      <th>4989</th>\n",
       "      <td>Overall, I was disappointed in the rental and ...</td>\n",
       "      <td>-0.8910</td>\n",
       "      <td>0.123</td>\n",
       "      <td>0.803</td>\n",
       "      <td>0.075</td>\n",
       "    </tr>\n",
       "    <tr>\n",
       "      <th>...</th>\n",
       "      <td>...</td>\n",
       "      <td>...</td>\n",
       "      <td>...</td>\n",
       "      <td>...</td>\n",
       "      <td>...</td>\n",
       "    </tr>\n",
       "    <tr>\n",
       "      <th>515981</th>\n",
       "      <td>The experience was just a nightmare...basicall...</td>\n",
       "      <td>-0.9371</td>\n",
       "      <td>0.113</td>\n",
       "      <td>0.887</td>\n",
       "      <td>0.000</td>\n",
       "    </tr>\n",
       "    <tr>\n",
       "      <th>516995</th>\n",
       "      <td>Hotel met vriendelijk personeel op een goede l...</td>\n",
       "      <td>-0.8271</td>\n",
       "      <td>0.061</td>\n",
       "      <td>0.939</td>\n",
       "      <td>0.000</td>\n",
       "    </tr>\n",
       "    <tr>\n",
       "      <th>517110</th>\n",
       "      <td>Really disappointed at the failure of the host...</td>\n",
       "      <td>-0.9234</td>\n",
       "      <td>0.195</td>\n",
       "      <td>0.777</td>\n",
       "      <td>0.028</td>\n",
       "    </tr>\n",
       "    <tr>\n",
       "      <th>517388</th>\n",
       "      <td>Nice apartment but 50 minute walk from the cit...</td>\n",
       "      <td>-0.8102</td>\n",
       "      <td>0.113</td>\n",
       "      <td>0.861</td>\n",
       "      <td>0.026</td>\n",
       "    </tr>\n",
       "    <tr>\n",
       "      <th>517996</th>\n",
       "      <td>Not an accurate description. The photos didn’t...</td>\n",
       "      <td>-0.9389</td>\n",
       "      <td>0.216</td>\n",
       "      <td>0.725</td>\n",
       "      <td>0.058</td>\n",
       "    </tr>\n",
       "  </tbody>\n",
       "</table>\n",
       "<p>1089 rows × 5 columns</p>\n",
       "</div>"
      ],
      "text/plain": [
       "                                                   review  compound  \\\n",
       "1302    Leah was very responsive and attentive. When I...   -0.8725   \n",
       "2099    At first time, Pj was nice and answer quickly ...   -0.8537   \n",
       "2825    Great neighborhood, but the \"patio\" photo was ...   -0.8551   \n",
       "4789    I was disappointed in the rental.  It had no t...   -0.9306   \n",
       "4989    Overall, I was disappointed in the rental and ...   -0.8910   \n",
       "...                                                   ...       ...   \n",
       "515981  The experience was just a nightmare...basicall...   -0.9371   \n",
       "516995  Hotel met vriendelijk personeel op een goede l...   -0.8271   \n",
       "517110  Really disappointed at the failure of the host...   -0.9234   \n",
       "517388  Nice apartment but 50 minute walk from the cit...   -0.8102   \n",
       "517996  Not an accurate description. The photos didn’t...   -0.9389   \n",
       "\n",
       "        negativity  neutrality  positivity  \n",
       "1302         0.087       0.852       0.061  \n",
       "2099         0.160       0.747       0.093  \n",
       "2825         0.209       0.708       0.083  \n",
       "4789         0.230       0.770       0.000  \n",
       "4989         0.123       0.803       0.075  \n",
       "...            ...         ...         ...  \n",
       "515981       0.113       0.887       0.000  \n",
       "516995       0.061       0.939       0.000  \n",
       "517110       0.195       0.777       0.028  \n",
       "517388       0.113       0.861       0.026  \n",
       "517996       0.216       0.725       0.058  \n",
       "\n",
       "[1089 rows x 5 columns]"
      ]
     },
     "execution_count": 173,
     "metadata": {},
     "output_type": "execute_result"
    }
   ],
   "source": [
    "scored_reviews.query('negativity > positivity').query('compound < -0.8')"
   ]
  },
  {
   "cell_type": "code",
   "execution_count": 174,
   "metadata": {},
   "outputs": [
    {
     "data": {
      "text/plain": [
       "\"Hotel met vriendelijk personeel op een goede locatie in De Pijp, aan het park en niet ver van de metrohalte. De kamer had wat mindere punten, zo lag een van de twee bedden niet fijn, omdat het matras smaller was dan de topper die erop lag, waardoor je schuin ligt of eraf glijdt als je een beetje naar de zijkant ligt. Ook was het gordijn in onze kamer te smal om het hele raam te bedekken en was er 's nachts veel herrie buiten. \\nAl met al een prima betaalbaar hotel om een nachtje in Amsterdam te verblijven, vanwege de goede bereikbaarheid met het OV en de vele leuke cafeetjes en restaurantjes in de buurt. Voor een langer verblijf vind ik het niet zo geschikt, omdat we door bovengenoemde punten niet zo'n hele goede nachtrust hebben gehad.\""
      ]
     },
     "execution_count": 174,
     "metadata": {},
     "output_type": "execute_result"
    }
   ],
   "source": [
    "scored_reviews.iloc[516995]['review']"
   ]
  },
  {
   "cell_type": "markdown",
   "metadata": {},
   "source": [
    "We found a dutch review with the unpleasant comment saying that the place was not good for a long stay\n",
    "But, the threshold was too strict to find these negative comments.\n",
    "The tradeoff is that we may find only a small fraction of review"
   ]
  },
  {
   "cell_type": "markdown",
   "metadata": {},
   "source": [
    "#### Overall Sentiment performance was good"
   ]
  },
  {
   "cell_type": "markdown",
   "metadata": {},
   "source": [
    "We have looked at some extreme cases where there's a lack of accuracy in the score. But, NLTK's general performance to classify the review was great. Utilizing the compound score, most sentiment classifies well. \n",
    "Next, if we wanted to look at the performance consistency, another dataset that has a mixed review should be tested."
   ]
  },
  {
   "cell_type": "markdown",
   "metadata": {},
   "source": [
    "## Summary & Future Work"
   ]
  },
  {
   "cell_type": "markdown",
   "metadata": {},
   "source": [
    "- Airbnb has a pleasant experience when using the service, the ratings were ±90%\n",
    "- Data cleaning with removing stopwords is essential to find the most frequent word\n",
    "- NLTK able to classify the sentiment category well enough. But, sometimes would need human assistance to improve its accuracy in a fraction of cases\n",
    "- Business should take action for the bad review from the negative score and reading customers' complaints. \n",
    "- For future research, we need to compare other datasets that have mixed reviews."
   ]
  },
  {
   "cell_type": "markdown",
   "metadata": {},
   "source": [
    "## References "
   ]
  },
  {
   "cell_type": "markdown",
   "metadata": {},
   "source": [
    "- [earthdatascience](https://www.earthdatascience.org/courses/use-data-open-source-python/intro-to-apis/calculate-tweet-word-frequencies-in-python/)\n",
    "- [360doc](http://www.360doc.com/content/16/0426/18/2459_554012119.shtml)\n",
    "- [Kaggle](https://www.kaggle.com/residentmario/sentiment-analysis-and-collocation-of-reviews)\n",
    "- [Soundwave](https://soundwave.co.uk/blog/study-finds-67-of-consumers-are-influenced-by-online-reviews)"
   ]
  }
 ],
 "metadata": {
  "kernelspec": {
   "display_name": "Python 3",
   "language": "python",
   "name": "python3"
  },
  "language_info": {
   "codemirror_mode": {
    "name": "ipython",
    "version": 3
   },
   "file_extension": ".py",
   "mimetype": "text/x-python",
   "name": "python",
   "nbconvert_exporter": "python",
   "pygments_lexer": "ipython3",
   "version": "3.7.6"
  }
 },
 "nbformat": 4,
 "nbformat_minor": 4
}
